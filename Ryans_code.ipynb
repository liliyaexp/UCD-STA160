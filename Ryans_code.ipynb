{
 "cells": [
  {
   "cell_type": "markdown",
   "metadata": {
    "_uuid": "64cfe1b0b75507327b1039f4f1393dc8f4ecbec0"
   },
   "source": [
    "# Kaggle Competition: Predict at which speed a pet is adopted"
   ]
  },
  {
   "cell_type": "markdown",
   "metadata": {
    "_uuid": "12d0c8fc9b668a354345036a1ecadb09e0a1074d"
   },
   "source": [
    "*The aim of this notebook it's to have an overview on all the Data from the competition.*"
   ]
  },
  {
   "cell_type": "markdown",
   "metadata": {
    "_uuid": "48b0205b0643eebfc5f71ff18e34369e3a094a0e"
   },
   "source": [
    "## Python Packages"
   ]
  },
  {
   "cell_type": "code",
   "execution_count": null,
   "metadata": {
    "ExecuteTime": {
     "end_time": "2019-02-13T14:18:18.958623Z",
     "start_time": "2019-02-13T14:18:18.941600Z"
    },
    "_kg_hide-input": false,
    "_kg_hide-output": false,
    "_uuid": "be6f630b76db056e10cd11daa98bc8b6304717c4"
   },
   "outputs": [],
   "source": [
    "# Import Packages\n",
    "\n",
    "#Dataframe packages\n",
    "import json\n",
    "import glob\n",
    "import pandas as pd\n",
    "import numpy as np\n",
    "import os\n",
    "from PIL import Image\n",
    "import requests\n",
    "from io import BytesIO\n",
    "import cv2\n",
    "import numpy as np\n",
    "from collections import Counter\n",
    "from functools import partial\n",
    "import scipy as sp\n",
    "\n",
    "#Plot packages\n",
    "import seaborn as sns\n",
    "import matplotlib.pyplot as plt\n",
    "%matplotlib inline\n",
    "\n",
    "from wordcloud import WordCloud\n",
    "\n",
    "# LightGBM\n",
    "import lightgbm as lgb\n",
    "import scipy as sp\n",
    "\n",
    "# Load scikit's classifier library\n",
    "from sklearn.model_selection import train_test_split\n",
    "from sklearn.model_selection import GridSearchCV, StratifiedKFold,RandomizedSearchCV\n",
    "from sklearn.feature_selection import SelectFromModel\n",
    "\n",
    "from sklearn.metrics import cohen_kappa_score,mean_squared_error, accuracy_score, confusion_matrix, f1_score,classification_report\n",
    "\n",
    "import xgboost as xgb\n",
    "\n",
    "\n",
    "#Oversampling\n",
    "from imblearn.over_sampling import RandomOverSampler\n",
    "from sklearn.decomposition import PCA"
   ]
  },
  {
   "cell_type": "markdown",
   "metadata": {
    "_uuid": "087dcf37bcfa177fb5c4da36d545ff86935f2b70"
   },
   "source": [
    "## Datasets"
   ]
  },
  {
   "cell_type": "markdown",
   "metadata": {
    "_uuid": "4f951942f2ed47dac2cc98f27f9397a3e7360fe2"
   },
   "source": [
    "The data is provided by [Petfinder.my](Petfinder.my) , a platform dedicated for pets adoption. \n",
    "The objective is to predict at which speed a pet is adopted. \n",
    "\n",
    "There are 6 different sources of data + Images + Metadata Images and Sentiment Data \n",
    "-   Train.csv\n",
    "-   Test.csv\n",
    "-   breed_labels.csv\n",
    "-   color_labels.csv\n",
    "-   state_labels.csv\n",
    "-   Images (zip file) from cats and dogs that are adopted\n",
    "-   Metadata Images (zip file) information about the Image using Google Vision API\n",
    "-   Sentiment Data is based on the Descriptions using Google's Natural Language API. \n"
   ]
  },
  {
   "cell_type": "markdown",
   "metadata": {
    "_uuid": "f2aec474c00e788df03ef584b19169ecc0ef0c45"
   },
   "source": [
    "### Sentiment Data"
   ]
  },
  {
   "cell_type": "code",
   "execution_count": null,
   "metadata": {
    "ExecuteTime": {
     "end_time": "2019-02-13T13:21:15.386389Z",
     "start_time": "2019-02-13T13:21:12.495014Z"
    },
    "_uuid": "f5294315d1897152ca6b2aadf28e92d47e2cb1ad"
   },
   "outputs": [],
   "source": [
    "sentimental_analysis = sorted(glob.glob('../input/train_sentiment/*.json'))\n",
    "print('num of train sentiment files: {}'.format(len(sentimental_analysis)))"
   ]
  },
  {
   "cell_type": "code",
   "execution_count": null,
   "metadata": {
    "_uuid": "a52407ed3d7d3b3d3e1b67ea15f1add4b9fee9f5"
   },
   "outputs": [],
   "source": [
    "# Define Empty lists\n",
    "score=[]\n",
    "magnitude=[]\n",
    "petid=[]\n",
    "\n",
    "for filename in sentimental_analysis:\n",
    "         with open(filename, 'r') as f:\n",
    "            sentiment_file = json.load(f)\n",
    "         file_sentiment = sentiment_file['documentSentiment']\n",
    "         file_score =  np.asarray(sentiment_file['documentSentiment']['score'])\n",
    "         file_magnitude =np.asarray(sentiment_file['documentSentiment']['magnitude'])\n",
    "        \n",
    "            \n",
    "         score.append(file_score)\n",
    "         magnitude.append(file_magnitude)\n",
    "        \n",
    "         petid.append(filename.replace('.json','').replace('../input/train_sentiment/', ''))\n",
    "\n",
    "# Output with sentiment data for each pet\n",
    "# Output with sentiment data for each pet\n",
    "sentimental_analysis = pd.concat([ pd.DataFrame(petid, columns =['PetID']) ,pd.DataFrame(score, columns =['sentiment_document_score']),\n",
    "                                                pd.DataFrame(magnitude, columns =['sentiment_document_magnitude'])],axis =1)"
   ]
  },
  {
   "cell_type": "markdown",
   "metadata": {
    "_uuid": "7e84587fee59adef671b644c27d5851bca6eb40e"
   },
   "source": [
    "### Image Metadata"
   ]
  },
  {
   "cell_type": "markdown",
   "metadata": {
    "_uuid": "c711e73ca16d6fc34141d8322dad5829f2a55d5c"
   },
   "source": [
    "In this step we will export the description and the topicality of each image. For more information on [Google API Vision]"
   ]
  },
  {
   "cell_type": "markdown",
   "metadata": {
    "_uuid": "ed1956d5076661d486f9c29e630ddf2b00039232"
   },
   "source": [
    "*To improve the model we create different variables based on the data created by the Google API. *"
   ]
  },
  {
   "cell_type": "code",
   "execution_count": null,
   "metadata": {
    "_uuid": "5d9e45337f8b5db2a6b751a2b1e9f5179ba62944",
    "scrolled": true
   },
   "outputs": [],
   "source": [
    "image_metadata =  sorted(glob.glob('../input/train_metadata/*.json'))\n",
    "print('num of train metadata: {}'.format(len(image_metadata)))"
   ]
  },
  {
   "cell_type": "code",
   "execution_count": null,
   "metadata": {
    "_uuid": "e040d0288ad2a8cd518fdcc8a565a6463638d66d"
   },
   "outputs": [],
   "source": [
    "description=[]\n",
    "topicality=[]\n",
    "imageid=[]\n",
    "# Read Zip File and Export a Dataset with the Score and the ID\n",
    "for filename in image_metadata:\n",
    "         with open(filename, 'r') as f:\n",
    "            d = json.load(f)\n",
    "            file_keys = list(d.keys())\n",
    "         if  'labelAnnotations' in file_keys:\n",
    "            file_annots = d['labelAnnotations']\n",
    "            file_topicality = np.asarray([x['topicality'] for x in file_annots])\n",
    "            file_description = [x['description'] for x in file_annots]\n",
    "            #Create a list of all descriptions and topicality\n",
    "            description.append(file_description)\n",
    "            topicality.append(file_topicality)\n",
    "            #Create a list with all image id name\n",
    "            imageid.append(filename.replace('.json','').replace('../input/train_metadata/',''))\n",
    "\n",
    "\n",
    "# Prepare the output by renaming all variables\n",
    "description=pd.DataFrame(description)\n",
    "topicality=pd.DataFrame(topicality)\n",
    "\n",
    "new_names = [(i,'metadata_description_'+str(i)) for i in description.iloc[:, 0:].columns.values]\n",
    "description.rename(columns = dict(new_names), inplace=True)\n",
    "\n",
    "new_names = [(i,'metadata_topicality_'+str(i)) for i in topicality.iloc[:, 0:].columns.values]\n",
    "topicality.rename(columns = dict(new_names), inplace=True)\n",
    "\n",
    "# Output with sentiment data for each pet\n",
    "image_labelannot = pd.concat([ pd.DataFrame(imageid, columns =['ImageId']) ,topicality,description],axis =1)\n",
    "\n",
    "# create the PetId variable\n",
    "image_labelannot['PetID'] = image_labelannot['ImageId'].str.split('-').str[0]\n",
    "\n",
    "\n"
   ]
  },
  {
   "cell_type": "code",
   "execution_count": null,
   "metadata": {
    "_uuid": "3b1e2e0355e935a0de7b2b0944c80de02afde5a1"
   },
   "outputs": [],
   "source": [
    "##############\n",
    "# TOPICALITY #\n",
    "##############\n",
    "\n",
    "image_labelannot['metadata_topicality_mean'] = image_labelannot.iloc[:,1:10].mean(axis=1)\n",
    "image_labelannot['metadata_topicality_mean']  = image_labelannot.groupby(['PetID'])['metadata_topicality_mean'].transform('mean') \n",
    "\n",
    "image_labelannot['metadata_topicality_max'] = image_labelannot.iloc[:,1:10].max(axis=1)\n",
    "image_labelannot['metadata_topicality_max'] = image_labelannot.groupby(['PetID'])['metadata_topicality_max'].transform(max)\n",
    "\n",
    "image_labelannot['metadata_topicality_min'] = image_labelannot.iloc[:,1:10].min(axis=1)\n",
    "image_labelannot['metadata_topicality_min'] = image_labelannot.groupby(['PetID'])['metadata_topicality_min'].transform(min)\n",
    "\n",
    "\n",
    "image_labelannot['metadata_topicality_0_mean']  = image_labelannot.groupby(['PetID'])['metadata_topicality_0'].transform('mean')\n",
    "image_labelannot['metadata_topicality_0_max'] = image_labelannot.groupby(['PetID'])['metadata_topicality_0'].transform(max)\n",
    "image_labelannot['metadata_topicality_0_min'] = image_labelannot.groupby(['PetID'])['metadata_topicality_0'].transform(min)\n",
    "\n",
    "\n",
    "###############\n",
    "# DESCRIPTION #\n",
    "###############\n",
    "\n",
    "# Create Features from the Images\n",
    "image_labelannot['L_metadata_0_cat']=image_labelannot['metadata_description_0'].str.contains(\"cat\").astype(int)\n",
    "image_labelannot['L_metadata_0_dog'] =image_labelannot['metadata_description_0'].str.contains(\"dog\").astype(int)\n",
    "\n",
    "image_labelannot['L_metadata_any_cat']=image_labelannot.apply(lambda row: row.astype(str).str.contains('cat').any(), axis=1)\n",
    "image_labelannot['L_metadata_any_dog']=image_labelannot.apply(lambda row: row.astype(str).str.contains('dog').any(), axis=1)\n",
    "\n",
    "image_labelannot['L_metadata_0_cat_sum'] = image_labelannot.groupby(image_labelannot['PetID'])['L_metadata_0_cat'].transform('sum')\n",
    "image_labelannot['L_metadata_0_dog_sum'] = image_labelannot.groupby(image_labelannot['PetID'])['L_metadata_0_dog'].transform('sum')\n",
    "\n",
    "image_labelannot['L_metadata_any_cat_sum'] = image_labelannot.groupby(image_labelannot['PetID'])['L_metadata_any_cat'].transform('sum')\n",
    "image_labelannot['L_metadata_any_dog_sum'] = image_labelannot.groupby(image_labelannot['PetID'])['L_metadata_any_dog'].transform('sum')\n",
    "\n",
    "image_labelannot = image_labelannot[['PetID','metadata_topicality_max','metadata_topicality_mean','metadata_topicality_min','metadata_topicality_0_mean','metadata_topicality_0_max','metadata_topicality_0_min','L_metadata_0_cat_sum','L_metadata_0_dog_sum','L_metadata_any_cat_sum','L_metadata_any_dog_sum']]\n",
    "image_labelannot=image_labelannot.drop_duplicates('PetID')"
   ]
  },
  {
   "cell_type": "code",
   "execution_count": null,
   "metadata": {
    "_uuid": "a2cbf28a606fb22152109072b53667b027c7271f"
   },
   "outputs": [],
   "source": [
    "color_score_mean=[]\n",
    "color_score_min=[]\n",
    "color_score_max=[]\n",
    "\n",
    "color_pixelfrac_mean=[]\n",
    "color_pixelfrac_min=[]\n",
    "color_pixelfrac_max=[]\n",
    "\n",
    "imageid=[]\n",
    "\n",
    "# Read Zip File and Export a Dataset with the Score and the ID\n",
    "for filename in image_metadata:\n",
    "         with open(filename, 'r') as f:\n",
    "              d = json.load(f)\n",
    "              file_keys = list(d.keys())\n",
    "              if  'imagePropertiesAnnotation' in file_keys:\n",
    "                  file_colors = d['imagePropertiesAnnotation']['dominantColors']['colors']\n",
    "               \n",
    "                  file_color_score_mean = np.asarray([x['score'] for x in file_colors]).mean()\n",
    "                  file_color_pixelfrac_mean = np.asarray([x['pixelFraction'] for x in file_colors]).mean()\n",
    "\n",
    "                  file_color_score_min = np.asarray([x['score'] for x in file_colors]).min()\n",
    "                  file_color_pixelfrac_min = np.asarray([x['pixelFraction'] for x in file_colors]).min()\n",
    "\n",
    "\n",
    "                  file_color_score_max = np.asarray([x['score'] for x in file_colors]).max()\n",
    "                  file_color_pixelfrac_max = np.asarray([x['pixelFraction'] for x in file_colors]).max()\n",
    "\n",
    "\n",
    "              #Create a list with all image id name\n",
    "              imageid.append(filename.replace('.json','').replace('../input/train_metadata/', ''))\n",
    "\n",
    "              color_score_mean.append(file_color_score_mean)\n",
    "              color_score_min.append(file_color_score_min)\n",
    "              color_score_max.append(file_color_score_max)\n",
    "\n",
    "\n",
    "              color_pixelfrac_mean.append(file_color_pixelfrac_mean)\n",
    "              color_pixelfrac_min.append(file_color_pixelfrac_min)\n",
    "              color_pixelfrac_max.append(file_color_pixelfrac_max)\n",
    "\n",
    "      \n",
    "image_properties = pd.concat([pd.DataFrame({'ImageId':imageid}),pd.DataFrame({'metadata_color_pixelfrac_mean':color_pixelfrac_mean}), pd.DataFrame({'metadata_color_pixelfrac_min':color_pixelfrac_min}),pd.DataFrame({'metadata_color_pixelfrac_max':color_pixelfrac_max}),pd.DataFrame({'metadata_color_score_mean':color_score_mean}),pd.DataFrame({'metadata_color_score_min':color_score_min}),pd.DataFrame({'metadata_color_score_max':color_score_max})],axis=1)\n",
    "\n",
    "\n",
    "# create the PetId variable\n",
    "image_properties['PetID'] = image_properties['ImageId'].str.split('-').str[0]\n",
    "\n",
    "\n",
    "##############\n",
    "# COLOR INFO #\n",
    "##############\n",
    "image_properties['metadata_color_pixelfrac_mean']  = image_properties.groupby(['PetID'])['metadata_color_pixelfrac_mean'].transform('mean') \n",
    "image_properties['metadata_color_pixelfrac_min']  = image_properties.groupby(['PetID'])['metadata_color_pixelfrac_min'].transform(min) \n",
    "image_properties['metadata_color_pixelfrac_max']  = image_properties.groupby(['PetID'])['metadata_color_pixelfrac_max'].transform(max) \n",
    "\n",
    "image_properties['metadata_color_score_mean']  = image_properties.groupby(['PetID'])['metadata_color_score_mean'].transform('mean') \n",
    "image_properties['metadata_color_score_min']  = image_properties.groupby(['PetID'])['metadata_color_score_min'].transform(min) \n",
    "image_properties['metadata_color_score_max']  = image_properties.groupby(['PetID'])['metadata_color_score_max'].transform(max)\n",
    "\n",
    "image_properties=image_properties.drop_duplicates('PetID')\n",
    "image_properties = image_properties.drop(['ImageId'], 1)"
   ]
  },
  {
   "cell_type": "markdown",
   "metadata": {
    "_uuid": "7d2faf623cd7a4d269317a2df736cb01792d5230"
   },
   "source": [
    "### Image Quality"
   ]
  },
  {
   "cell_type": "markdown",
   "metadata": {
    "_uuid": "ae59d63fcacc230327486d74f2184f82f9e2307c"
   },
   "source": [
    "Image quality assessment aims to quantitatively represent the human perception of quality. To assign quality images we will add : pixels and  blur score using the variance of Laplacian.  \n",
    "The following variables are created:\n",
    "-  Pixel of all images for a pet\n",
    "-  Pixel average for all pictures for a Pet\n",
    "-  Blur of all images for a pet\n",
    "-  Blur average for all pictures for a Pet"
   ]
  },
  {
   "cell_type": "code",
   "execution_count": null,
   "metadata": {
    "_uuid": "9e1cd086d69de483bd021c7fce1a6682b90af1b2"
   },
   "outputs": [],
   "source": [
    "image_quality =sorted(glob.glob('../input/train_images/*.jpg'))\n",
    "\n",
    "blur=[]\n",
    "image_pixel=[]\n",
    "imageid =[]\n",
    "\n",
    "for filename in image_quality:\n",
    "              #Blur \n",
    "              image = cv2.imread(filename)\n",
    "              gray = cv2.cvtColor(image, cv2.COLOR_BGR2GRAY)\n",
    "              result = cv2.Laplacian(gray, cv2.CV_64F).var() \n",
    "              # Pixels\n",
    "              with Image.open(filename) as pixel:\n",
    "                  width, height = pixel.size\n",
    "              \n",
    "              pixel = width*height\n",
    "              \n",
    "              #image pixel size for each image\n",
    "              \n",
    "              image_pixel.append(pixel)\n",
    "              #blur for each image\n",
    "              blur.append(result)\n",
    "              #image id\n",
    "              imageid.append(filename.replace('.jpg','').replace('../input/train_images/', ''))\n",
    "                \n",
    "# Join Pixel, Blur and Image ID\n",
    "image_quality = pd.concat([ pd.DataFrame(imageid, columns =['ImageId']) ,pd.DataFrame(blur, columns =['blur']),\n",
    "                                        pd.DataFrame(image_pixel,columns=['pixel'])],axis =1)\n",
    "\n",
    "# create the PetId variable\n",
    "image_quality['PetID'] = image_quality['ImageId'].str.split('-').str[0]\n",
    "\n",
    "#Mean of the Mean\n",
    "image_quality['pixel_mean'] = image_quality.groupby(['PetID'])['pixel'].transform('mean')\n",
    "image_quality['blur_mean'] = image_quality.groupby(['PetID'])['blur'].transform('mean') \n",
    "\n",
    "image_quality['pixel_min'] = image_quality.groupby(['PetID'])['pixel'].transform('min') \n",
    "image_quality['blur_min'] = image_quality.groupby(['PetID'])['blur'].transform('min')\n",
    "\n",
    "image_quality['pixel_max'] = image_quality.groupby(['PetID'])['pixel'].transform('max') \n",
    "image_quality['blur_max'] = image_quality.groupby(['PetID'])['blur'].transform('max')\n",
    "\n",
    "image_quality['pixel_sum'] = image_quality.groupby(['PetID'])['pixel'].transform('sum')\n",
    "image_quality['blur_sum'] = image_quality.groupby(['PetID'])['blur'].transform('sum')\n",
    "\n",
    "\n",
    "image_quality = image_quality.drop(['blur','pixel','ImageId'], 1)\n",
    "image_quality=image_quality.drop_duplicates('PetID')"
   ]
  },
  {
   "cell_type": "markdown",
   "metadata": {
    "_uuid": "491b8f7afb7a7c132ded1cb308c3657d84351060"
   },
   "source": [
    "## HU Moments"
   ]
  },
  {
   "cell_type": "code",
   "execution_count": null,
   "metadata": {
    "_uuid": "9c93e1961d5efb7911e03bf2eec690493e56863b"
   },
   "outputs": [],
   "source": [
    "from math import copysign, log10\n",
    "\n",
    "huMoments0=[]\n",
    "huMoments1=[]\n",
    "huMoments2=[]\n",
    "huMoments3=[]\n",
    "huMoments4=[]\n",
    "huMoments5=[]\n",
    "huMoments6=[]\n",
    "imageid =[]\n",
    "\n",
    "image_info_train =sorted(glob.glob('../input/train_images/*.jpg'))\n",
    "\n",
    "for filename in image_info_train:\n",
    "            if filename.endswith(\"-1.jpg\"): # Take only the moments of picture 1\n",
    "                image = cv2.imread(filename)\n",
    "                im = cv2.cvtColor(image, cv2.COLOR_BGR2GRAY)  \n",
    "                # Calculate Moments\n",
    "                moments = cv2.moments(im)\n",
    "\n",
    "                # Calculate Hu Moments\n",
    "                huMoments = cv2.HuMoments(moments)\n",
    "                # Log scale hu moments\n",
    "                for i in range(0,7):\n",
    "                      huMoments[i] = round(-1* copysign(1.0, huMoments[i]) * log10(abs(huMoments[i])),2)\n",
    "\n",
    "                #image id\n",
    "                imageid.append(filename.replace('.jpg','').replace('../input/train_images/', ''))\n",
    "                huMoments0.append(huMoments[0])\n",
    "\n",
    "                huMoments1.append(huMoments[1])\n",
    "                huMoments2.append(huMoments[2])\n",
    "                huMoments3.append(huMoments[3])\n",
    "                huMoments4.append(huMoments[4])\n",
    "                huMoments5.append(huMoments[5])\n",
    "                huMoments6.append(huMoments[6])\n",
    "\n",
    "image_moments= pd.concat([pd.DataFrame({'ImageId':imageid}),pd.DataFrame({'huMoments0':np.concatenate(huMoments0,axis=0)}), \n",
    "                                     pd.DataFrame({'huMoments1':np.concatenate(huMoments1,axis=0)}),\n",
    "                                     pd.DataFrame({'huMoments2':np.concatenate(huMoments2,axis=0)}),\n",
    "                                     pd.DataFrame({'huMoments3':np.concatenate(huMoments3,axis=0)}),\n",
    "                                     pd.DataFrame({'huMoments4':np.concatenate(huMoments4,axis=0)}),\n",
    "                                     pd.DataFrame({'huMoments5':np.concatenate(huMoments5,axis=0)}),pd.DataFrame({'huMoments6':np.concatenate(huMoments6,axis=0)})],axis=1)\n",
    "            \n",
    "\n",
    "# create the PetId variable\n",
    "image_moments['PetID'] = image_moments['ImageId'].str.split('-').str[0]\n",
    "image_moments = image_moments[image_moments['ImageId'].apply(lambda x:x.endswith((\"-1\")))]\n"
   ]
  },
  {
   "cell_type": "markdown",
   "metadata": {
    "_uuid": "51b975bb1ef56f96519877416f35116f1b716b54"
   },
   "source": [
    "### Adoption Data "
   ]
  },
  {
   "cell_type": "code",
   "execution_count": null,
   "metadata": {
    "ExecuteTime": {
     "end_time": "2019-02-13T13:50:46.791829Z",
     "start_time": "2019-02-13T13:50:40.835207Z"
    },
    "_kg_hide-input": true,
    "_uuid": "97a3d39c467f6dc172451ba7d1931a07aef38288"
   },
   "outputs": [],
   "source": [
    "#Load Data\n",
    "train = pd.read_csv('../input/train/train.csv')\n",
    "test = pd.read_csv('../input/test/test.csv')\n",
    "sample_submission = pd.read_csv('../input/test/sample_submission.csv')\n",
    "\n",
    "breed =pd.read_csv('../input/breed_labels.csv',usecols=[\"BreedID\", \"BreedName\"]) #A pet could have multiple breed\n",
    "color =pd.read_csv('../input/color_labels.csv') #A pet could have multiple colors\n",
    "state =pd.read_csv('../input/state_labels.csv')\n",
    "\n",
    "# Add information about color, breed, state and sentiment data\n",
    "train = (pd.merge(train, breed.rename(columns={\"BreedName\": \"BreedName1\"}),  how='left', left_on=['Breed1'], right_on = ['BreedID']).drop('BreedID', axis=1))\n",
    "train = (pd.merge(train, breed.rename(columns={\"BreedName\": \"BreedName2\"}),  how='left', left_on=['Breed2'], right_on = ['BreedID']).drop('BreedID', axis=1))\n",
    "\n",
    "train = (pd.merge(train, color.rename(columns={\"ColorName\": \"ColorName1\"}),  how='left', left_on=['Color1'], right_on = ['ColorID']).drop('ColorID', axis=1))\n",
    "train = (pd.merge(train, color.rename(columns={\"ColorName\": \"ColorName2\"}),  how='left', left_on=['Color2'], right_on = ['ColorID']).drop('ColorID', axis=1))\n",
    "train = (pd.merge(train, color.rename(columns={\"ColorName\": \"ColorName3\"}),  how='left', left_on=['Color3'], right_on = ['ColorID']).drop('ColorID', axis=1))\n",
    "\n",
    "train = (pd.merge(train, state,  how='inner', left_on=['State'], right_on = ['StateID']).drop('StateID', axis=1))\n",
    "\n",
    "# Add information about sentimental analysis\n",
    "train = (pd.merge(train, sentimental_analysis,  how='left', left_on=['PetID'], right_on = ['PetID']))\n",
    "\n",
    "# Add information about Metadata Images\n",
    "train = (pd.merge(train, image_properties,  how='left', left_on=['PetID'], right_on = ['PetID']))\n",
    "train = (pd.merge(train, image_labelannot,  how='left', left_on=['PetID'], right_on = ['PetID']))\n",
    "train = (pd.merge(train, image_moments,  how='left', left_on=['PetID'], right_on = ['PetID']))\n",
    "\n",
    "# Add information about quality Images\n",
    "train = (pd.merge(train, image_quality,  how='left', left_on=['PetID'], right_on = ['PetID']))\n"
   ]
  },
  {
   "cell_type": "markdown",
   "metadata": {
    "_uuid": "b0e844919d51ee56eeea35aa16c7a2a83971904f"
   },
   "source": [
    "### Features Engineering"
   ]
  },
  {
   "cell_type": "code",
   "execution_count": null,
   "metadata": {
    "_uuid": "4927c72b4b7582502af87199f6d83ef72a47aef5"
   },
   "outputs": [],
   "source": [
    "## Using the Kernel:https://www.kaggle.com/bibek777/stacking-kernels\n",
    "## Using the Kernel:https://www.kaggle.com/bibek777/stacking-kernels\n",
    "\n",
    "# state GDP: https://en.wikipedia.org/wiki/List_of_Malaysian_states_by_GDP\n",
    "state_gdp = {\n",
    "    41336: 116.679,\n",
    "    41325: 40.596,\n",
    "    41367: 23.02,\n",
    "    41401: 190.075,\n",
    "    41415: 5.984,\n",
    "    41324: 37.274,\n",
    "    41332: 42.389,\n",
    "    41335: 52.452,\n",
    "    41330: 67.629,\n",
    "    41380: 5.642,\n",
    "    41327: 81.284,\n",
    "    41345: 80.167,\n",
    "    41342: 121.414,\n",
    "    41326: 280.698,\n",
    "    41361: 32.270\n",
    "}\n",
    "\n",
    "# state population: https://en.wikipedia.org/wiki/Malaysia\n",
    "state_population = {\n",
    "    41336: 33.48283,\n",
    "    41325: 19.47651,\n",
    "    41367: 15.39601,\n",
    "    41401: 16.74621,\n",
    "    41415: 0.86908,\n",
    "    41324: 8.21110,\n",
    "    41332: 10.21064,\n",
    "    41335: 15.00817,\n",
    "    41330: 23.52743,\n",
    "    41380: 2.31541,\n",
    "    41327: 15.61383,\n",
    "    41345: 32.06742,\n",
    "    41342: 24.71140,\n",
    "    41326: 54.62141,\n",
    "    41361: 10.35977\n",
    "}\n",
    "\n",
    "state_area ={\n",
    "    41336:19102,\n",
    "41325:9500,\n",
    "41367:15099,\n",
    "41401:243,\n",
    "41415:91,\n",
    "41324:1664,\n",
    "41332:6686,\n",
    "41335:36137,\n",
    "41330:21035,\n",
    "41380:821,\n",
    "41327:1048,\n",
    "41345:73631,\n",
    "41342:124450,\n",
    "41326:8104,\n",
    "41361:13035}\n",
    "\n",
    "state_unemployment ={\n",
    "    41336 : 3.6,\n",
    "41325 :2.9,\n",
    "41367: 3.8,\n",
    "41324: 0.9,\n",
    "41332 : 2.7,\n",
    "41335: 2.6,\n",
    "41330: 3.4,\n",
    "41380: 2.9,\n",
    "41327: 2.1,\n",
    "41345 : 5.4,\n",
    "41342 : 3.3,\n",
    "41326: 3.2,\n",
    "41361: 4.2,\n",
    "41415: 7.8,\n",
    "41401: 3.3\n",
    "}\n",
    "\n",
    "# per 1000 population\n",
    "state_birth_rate = {\n",
    " 41336:16.3,\n",
    "41325:17.0,\n",
    "41367:21.4,\n",
    "41401:14.4,\n",
    "41415:18.1,\n",
    "41324:16.0,\n",
    "41332:16.4,\n",
    "41335:17.0,\n",
    "41330:14.4,\n",
    "41380:17.5,\n",
    "41327:12.7,\n",
    "41345:13.7,\n",
    "41342:13.9,\n",
    "41326:16.6,\n",
    "41361:23.3,     \n",
    "}\n",
    "\n",
    "train[\"state_gdp\"] = train.State.map(state_gdp)\n",
    "train[\"state_population\"] = train.State.map(state_population)\n",
    "train[\"state_area\"] = train.State.map(state_area)\n",
    "train['state_unemployment']=train.State.map(state_unemployment)\n",
    "train['state_birth_rate']=train.State.map(state_birth_rate)"
   ]
  },
  {
   "cell_type": "code",
   "execution_count": null,
   "metadata": {
    "ExecuteTime": {
     "end_time": "2019-02-13T13:57:04.161528Z",
     "start_time": "2019-02-13T13:57:03.922408Z"
    },
    "_kg_hide-input": false,
    "_uuid": "660615abc6df11246b7c7172add756e6451c8db0"
   },
   "outputs": [],
   "source": [
    "# Color (Create a Flag pet has 1 color, 2 colors, 3 colors)\n",
    "train['L_Color1'] = (pd.isnull(train['ColorName3']) & pd.isnull(train['ColorName2']) & pd.notnull(train['ColorName1'])).astype(int)\n",
    "train['L_Color2'] = (pd.isnull(train['ColorName3']) & pd.notnull(train['ColorName2']) & pd.notnull(train['ColorName1'])).astype(int)\n",
    "train['L_Color3'] = (pd.notnull(train['ColorName3']) & pd.notnull(train['ColorName2']) & pd.notnull(train['ColorName1'])).astype(int)\n",
    "\n",
    "# Breed (create a flag if the pet has 1 breed or 2)\n",
    "train['L_Breed1'] = (pd.isnull(train['BreedName2']) & pd.notnull(train['BreedName1'])).astype(int)\n",
    "train['L_Breed2'] = (pd.notnull(train['BreedName2']) & pd.notnull(train['BreedName1'])).astype(int)\n",
    "\n",
    "#Name (create a flag if the name is missing, with less than two letters)\n",
    "train['Name_Length']=train['Name'].str.len()\n",
    "train['L_Name_missing'] =  (pd.isnull(train['Name'])).astype(int)\n",
    "\n",
    "# Breed create columns\n",
    "train['L_Breed1_Siamese'] =(train['BreedName1']=='Siamese').astype(int)\n",
    "train['L_Breed1_Persian']=(train['BreedName1']=='Persian').astype(int)\n",
    "train['L_Breed1_Labrador_Retriever']=(train['BreedName1']=='Labrador Retriever').astype(int)\n",
    "train['L_Breed1_Terrier']=(train['BreedName1']=='Terrier').astype(int)\n",
    "train['L_Breed1_Golden_Retriever ']=(train['BreedName1']=='Golden Retriever').astype(int)\n",
    "\n",
    "#Description \n",
    "train['Description_Length']=train['Description'].str.len() \n",
    "\n",
    "# Fee Amount\n",
    "train['L_Fee_Free'] =  (train['Fee']==0).astype(int)\n",
    "\n",
    "#Add the Number of Pets per Rescuer \n",
    "pets_total = train.groupby(['RescuerID']).size().reset_index(name='N_pets_total')\n",
    "train= pd.merge(train, pets_total, left_on='RescuerID', right_on='RescuerID', how='inner')\n",
    "train.count()\n",
    "\n",
    "# No photo\n",
    "train['L_NoPhoto'] =  (train['PhotoAmt']==0).astype(int)\n",
    "\n",
    "#No Video\n",
    "train['L_NoVideo'] =  (train['VideoAmt']==0).astype(int)\n",
    "\n",
    "#Log Age \n",
    "train['Log_Age']= np.log(train.Age+1) \n",
    "\n",
    "#Negative Score \n",
    "train['L_scoreneg'] =  (train['sentiment_document_score']<0).astype(int)\n",
    "\n",
    "#Quantity Amount >5\n",
    "train.loc[train['Quantity'] > 5, 'Quantity'] = 5"
   ]
  },
  {
   "cell_type": "markdown",
   "metadata": {
    "_uuid": "2b0808e582095585f092c4f272a465bcb4b7790c"
   },
   "source": [
    "## Features from Text Mining"
   ]
  },
  {
   "cell_type": "code",
   "execution_count": null,
   "metadata": {
    "_uuid": "17eeeffb0c62344b718d36edb1b3177af53c2c58"
   },
   "outputs": [],
   "source": [
    "# Normalize the Variable Description\n",
    "train['Description'] =train['Description'].fillna(\"<MISSING>\")\n",
    "train['Description'] = train['Description'].str.replace('\\d+', '')\n",
    "train['Description'] = train['Description'].str.lower()\n",
    "train[\"Description\"] = train['Description'].str.replace('[^\\w\\s]','')\n",
    "\n",
    "# Stop Words \n",
    "from nltk.corpus import stopwords\n",
    "\n",
    "stop = stopwords.words('english')\n",
    "pat = r'\\b(?:{})\\b'.format('|'.join(stop))\n",
    "train['Description'] = train['Description'].str.replace(pat, '')\n",
    "train['Description'] = train['Description'].str.replace(r'\\s+', ' ')\n",
    "\n",
    "# Stem Words\n",
    "train['Description'] = train['Description'].astype(str).str.split()\n",
    "\n",
    "from nltk.stem import PorterStemmer, WordNetLemmatizer\n",
    "porter_stemmer = PorterStemmer()\n",
    "train['Description']=train['Description'].apply(lambda x : [porter_stemmer.stem(y) for y in x])\n",
    "\n",
    "train['Description']=train['Description'].apply(lambda x : \" \".join(x))\n",
    "\n",
    "def get_top_n_words(corpus, n=None):\n",
    "    from sklearn.feature_extraction.text import CountVectorizer\n",
    "\n",
    "    vec = CountVectorizer().fit(corpus)\n",
    "    bag_of_words = vec.transform(corpus)\n",
    "    sum_words = bag_of_words.sum(axis=0) \n",
    "    words_freq = [(word, sum_words[0, idx]) for word, idx in     vec.vocabulary_.items()]\n",
    "    words_freq =sorted(words_freq, key = lambda x: x[1], reverse=True)\n",
    "    test=pd.DataFrame(words_freq[:n], columns=['words','freq']) \n",
    "    \n",
    "    sns.barplot(x='words', y='freq', data=test)\n",
    "\n",
    "get_top_n_words(train['Description'],10)\n",
    "\n",
    "from sklearn.decomposition import TruncatedSVD, NMF\n",
    "# Matrix Factorization for dimensionality reduction\n",
    "from sklearn.feature_extraction.text import TfidfVectorizer\n",
    "\n",
    "svd_ = TruncatedSVD(\n",
    "    n_components=5, random_state=1337)\n",
    "nmf_ = NMF(\n",
    "    n_components=5, random_state=1337)\n",
    "\n",
    "tfidf_col = TfidfVectorizer().fit_transform(train['Description'])\n",
    "svd_col = svd_.fit_transform(tfidf_col)\n",
    "svd_col = pd.DataFrame(svd_col)\n",
    "svd_col = svd_col.add_prefix('SVD_')\n",
    "\n",
    "nmf_col = nmf_.fit_transform(tfidf_col)\n",
    "nmf_col = pd.DataFrame(nmf_col)\n",
    "nmf_col = nmf_col.add_prefix('NMF_')\n",
    "\n",
    "# Concatenate all dataframes\n",
    "train = pd.concat([train,nmf_col,svd_col],axis=1)\n"
   ]
  },
  {
   "cell_type": "markdown",
   "metadata": {
    "_uuid": "6e85273fbcabe7c821fb99be1098cb9194a27c78"
   },
   "source": [
    "## Adoption Data Exploration"
   ]
  },
  {
   "cell_type": "code",
   "execution_count": null,
   "metadata": {
    "ExecuteTime": {
     "end_time": "2019-02-13T13:25:47.631107Z",
     "start_time": "2019-02-13T13:25:47.526599Z"
    },
    "_uuid": "11a33c1609d829878e6cbf9d48e6a3db1785a570"
   },
   "outputs": [],
   "source": [
    "train.head(2)"
   ]
  },
  {
   "cell_type": "markdown",
   "metadata": {
    "ExecuteTime": {
     "end_time": "2019-02-08T13:36:03.150609Z",
     "start_time": "2019-02-08T13:36:03.144643Z"
    },
    "_uuid": "34bde2f4abbb0ab4fc2f8ea54de166570e3d8fff"
   },
   "source": [
    "### Target Analysis"
   ]
  },
  {
   "cell_type": "markdown",
   "metadata": {
    "_uuid": "13db382cb8f6edf09229fabefb45a89e21910a16"
   },
   "source": [
    "\n",
    " -   0 - Pet was adopted on the same day as it was listed.\n",
    " -   1 - Pet was adopted between 1 and 7 days (1st week) after being listed.\n",
    " -   2 - Pet was adopted between 8 and 30 days (1st month) after being listed.\n",
    " -   3 - Pet was adopted between 31 and 90 days (2nd & 3rd month) after being listed.\n",
    " -   4 - No adoption after 100 days of being listed. (There are no pets in this dataset that waited between 90 and 100 days).\n"
   ]
  },
  {
   "cell_type": "code",
   "execution_count": null,
   "metadata": {
    "ExecuteTime": {
     "end_time": "2019-02-13T13:34:58.298554Z",
     "start_time": "2019-02-13T13:34:58.082536Z"
    },
    "_kg_hide-input": true,
    "_uuid": "6768739bf12bf359275d6695f0b3cc49049952db"
   },
   "outputs": [],
   "source": [
    "total = float(len(train)) # one person per row \n",
    "ax =sns.countplot(x=\"AdoptionSpeed\", data=train,palette=\"Set3\")\n",
    "for p in ax.patches:\n",
    "    height = p.get_height()\n",
    "    ax.text(p.get_x()+p.get_width()/2.,\n",
    "            height,\n",
    "            '{:1.2f}'.format(height/total),\n",
    "            ha=\"center\") \n"
   ]
  },
  {
   "cell_type": "code",
   "execution_count": null,
   "metadata": {
    "_kg_hide-input": true,
    "_uuid": "7d52ad0886b1d0315dff64a6452fb15e95bd68d7"
   },
   "outputs": [],
   "source": [
    "images_train = sorted(glob.glob('../input/petfinder-adoption-prediction/train_images/*.jpg'))\n",
    "\n",
    "for img in images_train[:30]:\n",
    "    image= Image.open(img)\n",
    "    pet_id = img.replace(\"../input/petfinder-adoption-prediction/train_images/\",\"\").replace(\".jpg\",\"\")\n",
    "    pet_id= pet_id.split(\"-\")[0]\n",
    "    \n",
    "    print(pet_id)\n",
    "    plt.imshow(image)\n",
    "    plt.title((\"Name: {}\\nAdoptionSpeed: {}\".format(*list(map(str, train[train.PetID==pet_id][[\"Name\", \"AdoptionSpeed\"]].values.tolist()[0])))))\n",
    "    plt.show()"
   ]
  },
  {
   "cell_type": "markdown",
   "metadata": {
    "ExecuteTime": {
     "end_time": "2019-02-08T15:37:16.633906Z",
     "start_time": "2019-02-08T15:37:16.626940Z"
    },
    "_uuid": "8ba95af4382069974520ed92d50307248f6c82fe"
   },
   "source": [
    "### Target vs dependant variables"
   ]
  },
  {
   "cell_type": "markdown",
   "metadata": {
    "_uuid": "6f455dc7f8b54331242e6c629ff7c755f95a5d0c"
   },
   "source": [
    "#### Graphic function"
   ]
  },
  {
   "cell_type": "code",
   "execution_count": null,
   "metadata": {
    "ExecuteTime": {
     "end_time": "2019-02-13T13:34:59.424825Z",
     "start_time": "2019-02-13T13:34:59.334545Z"
    },
    "_kg_hide-input": true,
    "_uuid": "70806514af3cb9bc69a049fde04bec44f38878a1"
   },
   "outputs": [],
   "source": [
    "def graphics (train, target, features, ncat):\n",
    "    fig, (ax1, ax2) = plt.subplots(1, 2, figsize=(15,7))\n",
    "\n",
    "    sns.countplot(x=target,hue=i, data=train,palette=('#00a1ff','#f9bc86','#f85cc2')).set_title('Distribution of Adoption Speed per '+ i)\n",
    " \n",
    "    # CrossTab\n",
    "    cross = pd.crosstab(train[target],train[i],margins=True)\n",
    "    # Delete the All obs. per variable y\n",
    "    cross = cross.drop(cross.index[len(cross)-1])\n",
    "    \n",
    "    for j in ncat:\n",
    "        # Stacked Bar Plot\n",
    "        if j ==0:\n",
    "            Type1 = pd.DataFrame(cross.iloc[:,j]/cross['All'])\n",
    "            ax1.bar(Type1.index.values, Type1[0], color='#00a1ff', label=cross.columns[0])\n",
    "        if j==1:\n",
    "            Type2 = pd.DataFrame(cross.iloc[:,j]/cross['All'])\n",
    "            ax1.bar(Type2.index.values, Type2[0], bottom=Type1[0], color='#f9bc86', label=cross.columns[1])\n",
    "        if j ==2:\n",
    "            Type3 = pd.DataFrame(cross.iloc[:,j]/cross['All'])\n",
    "            ax1.bar(Type3.index.values, Type3[0], bottom=[z+t for z,t in zip(Type1[0],Type2[0])], color='#f85cc2', label=cross.columns[2])\n",
    "        if j ==3:\n",
    "            Type4 = pd.DataFrame(cross.iloc[:,j]/cross['All'])\n",
    "            ax1.bar(Type4.index.values, Type4[0], bottom=[n+z+t for n,z,t in zip(Type1[0],Type2[0],Type3[0])], color='#ef53c7', label=cross.columns[4])\n",
    " \n",
    "    # Add title and axis names\n",
    "    ax1.set_title('Adoption Speed vs '+i)\n",
    "    ax1.set(xlabel='Adoption Speed', ylabel=i)\n",
    "    ax1.legend(loc='upper right')"
   ]
  },
  {
   "cell_type": "code",
   "execution_count": null,
   "metadata": {
    "_kg_hide-input": true,
    "_uuid": "01dfc9bb7ebd5189a566574598750c6da3e338fd"
   },
   "outputs": [],
   "source": [
    "def graphics_num (train, target, features):\n",
    "\n",
    "    num_analysis =train.groupby([features, target]).size().reset_index(name='counts')\n",
    "\n",
    "    fig, ax = plt.subplots(1, 2, figsize=(17,7))\n",
    "    # Add title and axis names\n",
    "    sns.lineplot(x=features, y=\"counts\", hue = target,data=num_analysis, ax=ax[0]).set_title(target+\" vs \"+features)\n",
    "    sns.boxplot(x=target, y=features, data=train, palette=\"Set1\", ax=ax[1]).set_title(target+\" vs \"+features)"
   ]
  },
  {
   "cell_type": "markdown",
   "metadata": {
    "ExecuteTime": {
     "end_time": "2019-02-09T18:29:18.330986Z",
     "start_time": "2019-02-09T18:29:18.324986Z"
    },
    "_uuid": "67be82434517e60accfdcc3f306f54703f94adcd"
   },
   "source": [
    "#### Animal Type Analysis"
   ]
  },
  {
   "cell_type": "code",
   "execution_count": null,
   "metadata": {
    "ExecuteTime": {
     "end_time": "2019-02-13T13:35:00.493501Z",
     "start_time": "2019-02-13T13:34:59.881546Z"
    },
    "_kg_hide-input": true,
    "_uuid": "837f2f07094455db0a2b78e680554f675f0076c2"
   },
   "outputs": [],
   "source": [
    "x= 'AdoptionSpeed'\n",
    "features =[\"Type\"]\n",
    "\n",
    "for i in features:\n",
    "    graphics(train,'AdoptionSpeed','Type',ncat=range(0,2))    #1. Dog 2.Cat"
   ]
  },
  {
   "cell_type": "markdown",
   "metadata": {
    "_uuid": "13cfe7e715f240371d388006893db17da8d7ae75"
   },
   "source": [
    "-  Type 1: Dog - Type 2: Cat. We see that cats are adopted more faster than dogs. "
   ]
  },
  {
   "cell_type": "markdown",
   "metadata": {
    "ExecuteTime": {
     "end_time": "2019-02-09T19:32:20.122376Z",
     "start_time": "2019-02-09T19:32:20.116411Z"
    },
    "_uuid": "f5b1d6b896e94b9ac373a352dd1b50b816f03390"
   },
   "source": [
    "#### Gender Analysis "
   ]
  },
  {
   "cell_type": "code",
   "execution_count": null,
   "metadata": {
    "ExecuteTime": {
     "end_time": "2019-02-13T13:35:01.474760Z",
     "start_time": "2019-02-13T13:35:00.737602Z"
    },
    "_kg_hide-input": true,
    "_uuid": "b0b3a712609e661e2450d7d6f947d3c51bf9a9cd"
   },
   "outputs": [],
   "source": [
    "features=[\"Gender\"]\n",
    "for i in features:\n",
    "    graphics(train,\"AdoptionSpeed\",i,ncat=range(0,3))    #1. Male, 2.Female 3. Mixed"
   ]
  },
  {
   "cell_type": "markdown",
   "metadata": {
    "_uuid": "d9ff2a412407841d5e571a70b91329cf5b8a7d15"
   },
   "source": [
    "-  More than one animals have tendance to be adopted after"
   ]
  },
  {
   "cell_type": "markdown",
   "metadata": {
    "_uuid": "cbeac6eafc151547673ea2ede5ce3a79770be339"
   },
   "source": [
    "#### Health Analysis"
   ]
  },
  {
   "cell_type": "code",
   "execution_count": null,
   "metadata": {
    "ExecuteTime": {
     "end_time": "2019-02-13T13:35:04.686905Z",
     "start_time": "2019-02-13T13:35:01.719963Z"
    },
    "_kg_hide-input": true,
    "_uuid": "5dd9781e5fdbb48f43e3a28cad23502180d59f6b"
   },
   "outputs": [],
   "source": [
    "# Draw a nested analysis per Target\n",
    "features =['FurLength','Vaccinated','Dewormed','Sterilized','Health']\n",
    "target = ['AdoptionSpeed']\n",
    "for i in features:\n",
    "    graphics(train,\"AdoptionSpeed\",i,ncat=range(0,3))   "
   ]
  },
  {
   "cell_type": "code",
   "execution_count": null,
   "metadata": {
    "ExecuteTime": {
     "end_time": "2019-02-13T13:35:04.931994Z",
     "start_time": "2019-02-13T13:35:04.904481Z"
    },
    "_kg_hide-input": true,
    "_uuid": "15db7ad301e2aef18f0810ed45d7312dec2ffa13"
   },
   "outputs": [],
   "source": [
    "# FurLength (0 = Not Specified) - Health (0 = Not Specified) No missing values\n",
    "\n",
    "train.loc[train['FurLength'] == 0]\n",
    "train.loc[train['Health'] == 0 ]"
   ]
  },
  {
   "cell_type": "markdown",
   "metadata": {
    "_uuid": "b1d6218c518e073337ab2cc3302ffab414e7d326"
   },
   "source": [
    "-  A Longer Fur favorise animal adoption (Fur length (1 = Short, 2 = Medium, 3 = Long, 0 = Not Specified))\n",
    "-  Vaccination doesn't seem to have an impact on adoption (1 = Yes, 2 = No, 3 = Not Sure)\n",
    "-  Dewormed doesn't seem to have an impact on adoption ...\n",
    "-  Sterilized either, they prefer non sterilized pets?\n",
    "-  Majority of Pets are healthy and in general they prefer health pets. "
   ]
  },
  {
   "cell_type": "markdown",
   "metadata": {
    "_uuid": "d85259beca8ada88a9faf900506ec2786b11e8b7"
   },
   "source": [
    "#### Age & Mature Size analysis"
   ]
  },
  {
   "cell_type": "code",
   "execution_count": null,
   "metadata": {
    "ExecuteTime": {
     "end_time": "2019-02-13T13:35:05.214989Z",
     "start_time": "2019-02-13T13:35:05.171940Z"
    },
    "_kg_hide-input": true,
    "_uuid": "aeac33b8bf74ad73cbb2dabb12011a9e98471ae5"
   },
   "outputs": [],
   "source": [
    "#Count how many pets per Age (months) and Adoption Speed group\n",
    "grouped_data = train.groupby(['AdoptionSpeed'])\n",
    "grouped_data['Age'].describe()"
   ]
  },
  {
   "cell_type": "markdown",
   "metadata": {
    "_uuid": "67f238f437ebdfa081885ed5bbd7ca45e1285119"
   },
   "source": [
    "-  The dataset contains young pets, 50% of them have less than 6 months.\n",
    "-  We see that older pets are adopted slower or not adopted"
   ]
  },
  {
   "cell_type": "code",
   "execution_count": null,
   "metadata": {
    "ExecuteTime": {
     "end_time": "2019-02-13T13:35:06.331083Z",
     "start_time": "2019-02-13T13:35:05.464092Z"
    },
    "_kg_hide-input": true,
    "_uuid": "103f0209556bd6b3f7331ef1313646584ab22abf"
   },
   "outputs": [],
   "source": [
    "age_analysis =train.groupby(['Age', 'AdoptionSpeed']).size().reset_index(name='counts')\n",
    "\n",
    "fig, (ax1, ax2) = plt.subplots(1, 2, figsize=(24,10))\n",
    "\n",
    "sns.lineplot(x=\"Age\", y=\"counts\", hue = \"AdoptionSpeed\",data=age_analysis).set_title(\"Adoption Speed vs Age\")\n",
    "# CrossTab\n",
    "cross = pd.crosstab(train[\"AdoptionSpeed\"],train['MaturitySize'],margins=True)\n",
    "# Delete the All obs. per variable y\n",
    "cross = cross.drop(cross.index[len(cross)-1])\n",
    "print(cross.columns)\n",
    "# Stacked Bar Plot\n",
    "Type1 = pd.DataFrame(cross[1]/cross['All'])\n",
    "Type2 = pd.DataFrame(cross[2]/cross['All'])\n",
    "Type3 = pd.DataFrame(cross[3]/cross['All'])\n",
    "Type4 = pd.DataFrame(cross[4]/cross['All'])\n",
    "\n",
    "ax1.bar(Type1.index.values, Type1[0], label='Small', color='#6f07f9')\n",
    "ax1.bar(Type2.index.values, Type2[0], bottom=Type1[0], color='#d6adf7', label='Medium')\n",
    "ax1.bar(Type3.index.values, Type3[0], bottom=[z+t for z,t in zip(Type1[0], Type2[0])], label='Large', color='#ef53c7')\n",
    "ax1.bar(Type4.index.values, Type4[0], bottom=[s+t+z for s,z,t in zip(Type1[0], Type2[0],Type3[0])], label='Extra Large', color='#3b006b')\n",
    "\n",
    "# Add title and axis names\n",
    "ax1.set_title('Adoption Speed vs Maturity Size')\n",
    "ax1.set(xlabel='Adoption Speed', ylabel=\"Maturity Size\")\n",
    "ax1.legend(loc='upper right')\n"
   ]
  },
  {
   "cell_type": "markdown",
   "metadata": {
    "ExecuteTime": {
     "end_time": "2019-02-09T20:07:57.600688Z",
     "start_time": "2019-02-09T20:07:57.589166Z"
    },
    "_uuid": "d44845e0945c0763cec92542ccd7dd3ec9224e1b"
   },
   "source": [
    "-  Small and Large pets are adopted faster"
   ]
  },
  {
   "cell_type": "markdown",
   "metadata": {
    "ExecuteTime": {
     "end_time": "2019-02-09T19:01:03.247873Z",
     "start_time": "2019-02-09T19:01:03.241873Z"
    },
    "_uuid": "57e34ef08740586721ce695310ee9bdb06934f7b"
   },
   "source": [
    "#### Color pets analysis"
   ]
  },
  {
   "cell_type": "code",
   "execution_count": null,
   "metadata": {
    "ExecuteTime": {
     "end_time": "2019-02-13T13:35:06.981291Z",
     "start_time": "2019-02-13T13:35:06.551176Z"
    },
    "_kg_hide-input": true,
    "_uuid": "5a807e85f809ebc87a1785e86aa27f9ccd78dd46"
   },
   "outputs": [],
   "source": [
    "plt.figure(figsize=(14,6))\n",
    "sns.countplot(x=\"AdoptionSpeed\",hue=\"ColorName1\", data=train,palette=('#393938','#ffd700','#d87c01',\"#febf09\",\"#f9dfb0\",\"#707070\",\"#befbfc\")).set_title('Distribution of Adoption Speed per Color')"
   ]
  },
  {
   "cell_type": "code",
   "execution_count": null,
   "metadata": {
    "ExecuteTime": {
     "end_time": "2019-02-13T13:35:08.762848Z",
     "start_time": "2019-02-13T13:35:07.225363Z"
    },
    "_kg_hide-input": true,
    "_uuid": "54293efff8b248f2b94aa9cb76654b006f2c4ac4"
   },
   "outputs": [],
   "source": [
    "# Draw a nested analysis per Target\n",
    "features =['L_Color1','L_Color2','L_Color3']\n",
    "target = ['AdoptionSpeed']\n",
    "for i in features:\n",
    "    graphics(train,\"AdoptionSpeed\",i,ncat=range(0,2))   "
   ]
  },
  {
   "cell_type": "markdown",
   "metadata": {
    "_uuid": "939ebda9ebddb578088b9873cb9f5b9368ce6695"
   },
   "source": [
    "-  1 Color or multiple colors doesn't seem to have an impact on Adoption Speed"
   ]
  },
  {
   "cell_type": "markdown",
   "metadata": {
    "_uuid": "61b36536dee546e89c45a1be3fa3e60de8b6c46e"
   },
   "source": [
    "#### Breed analysis"
   ]
  },
  {
   "cell_type": "code",
   "execution_count": null,
   "metadata": {
    "ExecuteTime": {
     "end_time": "2019-02-13T13:35:09.963279Z",
     "start_time": "2019-02-13T13:35:08.990950Z"
    },
    "_kg_hide-input": true,
    "_uuid": "86434171481d5b1f25eae75cc605adef24faebc5"
   },
   "outputs": [],
   "source": [
    "# Draw a nested analysis per Target\n",
    "features =['L_Breed1','L_Breed2']\n",
    "target = ['AdoptionSpeed']\n",
    "for i in features:\n",
    "    graphics(train,\"AdoptionSpeed\",i,ncat=range(0,2))   "
   ]
  },
  {
   "cell_type": "markdown",
   "metadata": {
    "_uuid": "a258cd297a1c550502dd01883140ac0a4c69c245"
   },
   "source": [
    "-  Cat or dog with 2 breeds may have higher speed adption"
   ]
  },
  {
   "cell_type": "markdown",
   "metadata": {
    "_uuid": "94e05c1b89ab9b46e68ba0fcc7335483b5475c7d"
   },
   "source": [
    "#### Fee Adoption "
   ]
  },
  {
   "cell_type": "code",
   "execution_count": null,
   "metadata": {
    "ExecuteTime": {
     "end_time": "2019-02-13T13:35:20.051125Z",
     "start_time": "2019-02-13T13:35:19.597810Z"
    },
    "_kg_hide-input": true,
    "_uuid": "6d36ef23a5d715ef53150b2f3db5455e75f47381"
   },
   "outputs": [],
   "source": [
    "# Free Adoption \n",
    "features =['L_Fee_Free']\n",
    "target = ['AdoptionSpeed']\n",
    "for i in features:\n",
    "    graphics(train,\"AdoptionSpeed\",i,ncat=range(0,2))   "
   ]
  },
  {
   "cell_type": "markdown",
   "metadata": {
    "ExecuteTime": {
     "end_time": "2019-02-11T10:17:16.027453Z",
     "start_time": "2019-02-11T10:17:16.018469Z"
    },
    "_uuid": "dc8a210743a72284eb83d7c2c529458496658666"
   },
   "source": [
    "-  Most animals are charge free "
   ]
  },
  {
   "cell_type": "code",
   "execution_count": null,
   "metadata": {
    "ExecuteTime": {
     "end_time": "2019-02-13T13:35:21.194100Z",
     "start_time": "2019-02-13T13:35:20.724409Z"
    },
    "_kg_hide-input": true,
    "_uuid": "70426d9dfb39cf774cdfa1fce3be07129777792e"
   },
   "outputs": [],
   "source": [
    "# Free Adoption Dogs \n",
    "features =['L_Fee_Free']\n",
    "target = ['AdoptionSpeed']\n",
    "for i in features:\n",
    "    graphics(train.query('Type==1'),\"AdoptionSpeed\",i,ncat=range(0,2))   "
   ]
  },
  {
   "cell_type": "code",
   "execution_count": null,
   "metadata": {
    "ExecuteTime": {
     "end_time": "2019-02-13T13:35:22.073135Z",
     "start_time": "2019-02-13T13:35:21.435174Z"
    },
    "_kg_hide-input": true,
    "_uuid": "4847260840cdac412473bd7b8fed9273e2ea683f"
   },
   "outputs": [],
   "source": [
    "# Free Adoption Cats \n",
    "features =['L_Fee_Free']\n",
    "target = ['AdoptionSpeed']\n",
    "for i in features:\n",
    "    graphics(train.query('Type==2'),\"AdoptionSpeed\",i,ncat=range(0,2))   "
   ]
  },
  {
   "cell_type": "code",
   "execution_count": null,
   "metadata": {
    "ExecuteTime": {
     "end_time": "2019-02-13T13:35:22.364426Z",
     "start_time": "2019-02-13T13:35:22.302894Z"
    },
    "_kg_hide-input": true,
    "_uuid": "d2ec3e8a856059506cf254e21b1615d0cf5bfb74"
   },
   "outputs": [],
   "source": [
    "fee_analysis =train.query('Fee>0').groupby(['AdoptionSpeed'])\n",
    "fee_analysis['Fee'].describe()\n"
   ]
  },
  {
   "cell_type": "markdown",
   "metadata": {
    "_uuid": "4042761791a2be63e556f4b9d43799f330ee3a81"
   },
   "source": [
    "-  The result is interesting for No adoption after 100 days the fee is less higher (in mean) than for the Adoption between 1 and 10 days \n",
    "- Free cats seems to be adopted faster"
   ]
  },
  {
   "cell_type": "markdown",
   "metadata": {
    "_uuid": "09d088e68a2b024147788b61899dfe61cd0fa5c6"
   },
   "source": [
    "#### State analysis"
   ]
  },
  {
   "cell_type": "markdown",
   "metadata": {
    "ExecuteTime": {
     "end_time": "2019-02-12T12:57:31.295037Z",
     "start_time": "2019-02-12T12:57:31.287061Z"
    },
    "_uuid": "d7c0bec454a375a680f3a5b0405633041ba4f10a"
   },
   "source": [
    "<img src=\"https://i.imgur.com/NWIf9Gf.png\" alt=\"state\" title=\"state\" width=\"600\" height=\"400\" /> "
   ]
  },
  {
   "cell_type": "code",
   "execution_count": null,
   "metadata": {
    "ExecuteTime": {
     "end_time": "2019-02-13T13:35:24.543021Z",
     "start_time": "2019-02-13T13:35:24.200859Z"
    },
    "_kg_hide-input": true,
    "_uuid": "fcf57e05c4735bf5bb43d4ffd8bf3e0ae25b2094"
   },
   "outputs": [],
   "source": [
    "fig= plt.subplots(figsize=(18,8))\n",
    "ax = sns.countplot(x=\"StateName\", data=train, order = train[\"StateName\"].value_counts().index)\n",
    "# Iterate through the list of axes' patches\n",
    "for p in ax.patches:\n",
    "    ax.text(p.get_x() + p.get_width()/2., p.get_height(), '%d' % int(p.get_height()), \n",
    "            fontsize=12, color='green', ha='center', va='bottom')"
   ]
  },
  {
   "cell_type": "code",
   "execution_count": null,
   "metadata": {
    "ExecuteTime": {
     "end_time": "2019-02-13T13:35:27.156670Z",
     "start_time": "2019-02-13T13:35:26.612501Z"
    },
    "_kg_hide-input": true,
    "_uuid": "1273328be66a319003daf4c8641c5ff781b11d33"
   },
   "outputs": [],
   "source": [
    "fig= plt.subplots(figsize=(24,12))\n",
    "ax = sns.countplot(x=\"StateName\",  hue=\"AdoptionSpeed\",data=train, palette=\"Set2\")"
   ]
  },
  {
   "cell_type": "markdown",
   "metadata": {
    "_uuid": "806f55b7518e396bbe9d92bdd517f36bdf1e0915"
   },
   "source": [
    "-  In Kuala Lumpur and Pulau Pinang the process seems slower "
   ]
  },
  {
   "cell_type": "markdown",
   "metadata": {
    "_uuid": "27e35bb7ac03b183f2e3306fe77c1a56237b1a29"
   },
   "source": [
    "#### RescuerID analysis"
   ]
  },
  {
   "cell_type": "markdown",
   "metadata": {
    "_uuid": "58ea595cefdfcc65e55acabd5efdfecdf9f064ed"
   },
   "source": [
    "Number of pets per Rescuer and List the Top 10 Rescuer"
   ]
  },
  {
   "cell_type": "code",
   "execution_count": null,
   "metadata": {
    "ExecuteTime": {
     "end_time": "2019-02-13T13:11:37.149720Z",
     "start_time": "2019-02-13T13:11:37.124680Z"
    },
    "_kg_hide-input": true,
    "_uuid": "488bde71ae448e62528865136142ea85a515fd0d"
   },
   "outputs": [],
   "source": [
    "rescuer_analysis =train.groupby(['RescuerID']).size().reset_index(name='counts')\n",
    "rescuer_analysis['counts'].describe()"
   ]
  },
  {
   "cell_type": "markdown",
   "metadata": {
    "_uuid": "fe993b99da2618a659d137e3c7abae01dd730a50"
   },
   "source": [
    "-  In mean a Rescuer have around 2 pets, let's see the top Rescuer ! "
   ]
  },
  {
   "cell_type": "code",
   "execution_count": null,
   "metadata": {
    "ExecuteTime": {
     "end_time": "2019-02-13T13:11:45.562001Z",
     "start_time": "2019-02-13T13:11:45.543991Z"
    },
    "_kg_hide-input": true,
    "_uuid": "c2970e82753d4668eb6aa6e8dc1a3c280a3e62ef"
   },
   "outputs": [],
   "source": [
    "Top4 =rescuer_analysis.sort_values('counts',ascending=False).head(4)\n",
    "Top4"
   ]
  },
  {
   "cell_type": "code",
   "execution_count": null,
   "metadata": {
    "ExecuteTime": {
     "end_time": "2019-02-13T13:11:46.621670Z",
     "start_time": "2019-02-13T13:11:46.229232Z"
    },
    "_kg_hide-input": true,
    "_uuid": "7cd10caa15171085940f827510b5c2433e2f2ce5"
   },
   "outputs": [],
   "source": [
    "train_toprescuer = train.loc[train['RescuerID'].isin(Top4['RescuerID'].values.tolist())]\n",
    "\n",
    "fig = plt.subplots(figsize=(24,10))\n",
    "\n",
    "ax = sns.countplot(x=\"RescuerID\",data=train_toprescuer ,hue=\"AdoptionSpeed\" ,palette=\"Set3\")\n",
    "for p in ax.patches:\n",
    "    ax.text(p.get_x() + p.get_width()/2., p.get_height(), '%d' % int(p.get_height()), \n",
    "            fontsize=12, color='blue', ha='center', va='bottom') "
   ]
  },
  {
   "cell_type": "markdown",
   "metadata": {
    "ExecuteTime": {
     "end_time": "2019-02-12T15:11:23.209652Z",
     "start_time": "2019-02-12T15:11:23.201669Z"
    },
    "_uuid": "b9ba2d335e397a534511a77bb62e3ade4dd3efd8"
   },
   "source": [
    "- the First Rescuer seems to have faster adoption"
   ]
  },
  {
   "cell_type": "markdown",
   "metadata": {
    "_uuid": "55a8f370643b26fff4c6581bc343a948e75d3542"
   },
   "source": [
    "###### Rescuer with more pets have higher Adoption Rate? YES!"
   ]
  },
  {
   "cell_type": "code",
   "execution_count": null,
   "metadata": {
    "ExecuteTime": {
     "end_time": "2019-02-13T13:35:37.708978Z",
     "start_time": "2019-02-13T13:35:37.621959Z"
    },
    "_kg_hide-input": true,
    "_uuid": "ef8994355c5a0a8e3b2dd13d22190c33466321e6"
   },
   "outputs": [],
   "source": [
    "# Best Rescuer for minimum 10 pets\n",
    "rescuer_speed =train.groupby(['RescuerID','AdoptionSpeed']).size().reset_index(name='N_pets_speed')\n",
    "\n",
    "pets_total = train.groupby(['RescuerID']).size().reset_index(name='N_pets_total')\n",
    "rescuer_analysis= pd.merge(pets_total, rescuer_speed, left_on='RescuerID', right_on='RescuerID', how='inner')\n",
    "rescuer_analysis['pct_pets'] = rescuer_analysis['N_pets_speed']/rescuer_analysis['N_pets_total']\n",
    "\n",
    "#Big Rescuer\n",
    "rescuer_analysis.query(\"N_pets_total>10\").groupby(\"AdoptionSpeed\")['pct_pets'].describe().reset_index()\n"
   ]
  },
  {
   "cell_type": "code",
   "execution_count": null,
   "metadata": {
    "ExecuteTime": {
     "end_time": "2019-02-13T13:35:38.606513Z",
     "start_time": "2019-02-13T13:35:38.555507Z"
    },
    "_kg_hide-input": true,
    "_uuid": "96dd7571838b268e4f10c2846b585f6c96c65d59"
   },
   "outputs": [],
   "source": [
    "#Small Rescuer\n",
    "rescuer_analysis.query(\"N_pets_total<10\").groupby(\"AdoptionSpeed\")['pct_pets'].describe().reset_index()"
   ]
  },
  {
   "cell_type": "markdown",
   "metadata": {
    "_uuid": "0d1243d517403c9fef00fd4ea5ee1266fc4db43d"
   },
   "source": [
    "#### Video and Photo Analysis"
   ]
  },
  {
   "cell_type": "code",
   "execution_count": null,
   "metadata": {
    "ExecuteTime": {
     "end_time": "2019-02-13T13:38:59.136420Z",
     "start_time": "2019-02-13T13:38:59.119417Z"
    },
    "_kg_hide-input": true,
    "_uuid": "cb0cae2851f211341c733f2d304f964306bdb73d"
   },
   "outputs": [],
   "source": [
    "train['PhotoAmt'].describe()"
   ]
  },
  {
   "cell_type": "code",
   "execution_count": null,
   "metadata": {
    "ExecuteTime": {
     "end_time": "2019-02-13T13:47:02.571653Z",
     "start_time": "2019-02-13T13:47:02.233608Z"
    },
    "_kg_hide-input": true,
    "_uuid": "fff0a58064d811979b05a79a5c18b874c44a2226"
   },
   "outputs": [],
   "source": [
    "fig = plt.subplots(figsize=(12,5))\n",
    "sns.distplot(train['PhotoAmt'])"
   ]
  },
  {
   "cell_type": "code",
   "execution_count": null,
   "metadata": {
    "ExecuteTime": {
     "end_time": "2019-02-13T13:44:24.959370Z",
     "start_time": "2019-02-13T13:44:24.948339Z"
    },
    "_kg_hide-input": true,
    "_uuid": "cb8856614835f2ce9c5d98479757cd43fe4f99e4"
   },
   "outputs": [],
   "source": [
    "train.groupby('AdoptionSpeed')['PhotoAmt'].mean()"
   ]
  },
  {
   "cell_type": "code",
   "execution_count": null,
   "metadata": {
    "ExecuteTime": {
     "end_time": "2019-02-13T13:47:45.355534Z",
     "start_time": "2019-02-13T13:47:44.895165Z"
    },
    "_kg_hide-input": true,
    "_uuid": "ef0d10f14f77aa9ab1e3513f4387873841ac999b"
   },
   "outputs": [],
   "source": [
    "# Photo? \n",
    "features =['L_NoPhoto']\n",
    "target = ['AdoptionSpeed']\n",
    "for i in features:\n",
    "    graphics(train,\"AdoptionSpeed\",i,ncat=range(0,2))   "
   ]
  },
  {
   "cell_type": "code",
   "execution_count": null,
   "metadata": {
    "ExecuteTime": {
     "end_time": "2019-02-13T13:39:19.764319Z",
     "start_time": "2019-02-13T13:39:19.747302Z"
    },
    "_kg_hide-input": true,
    "_uuid": "6af483b72bb33eada38d7e1a12bad81b21432e2c"
   },
   "outputs": [],
   "source": [
    "train['VideoAmt'].describe()"
   ]
  },
  {
   "cell_type": "code",
   "execution_count": null,
   "metadata": {
    "ExecuteTime": {
     "end_time": "2019-02-13T13:48:39.351512Z",
     "start_time": "2019-02-13T13:48:39.010730Z"
    },
    "_kg_hide-input": true,
    "_uuid": "e2f91d1912cd7982b409a24e5903049d676d4094"
   },
   "outputs": [],
   "source": [
    "fig = plt.subplots(figsize=(12,5))\n",
    "sns.distplot(train['VideoAmt'])"
   ]
  },
  {
   "cell_type": "code",
   "execution_count": null,
   "metadata": {
    "ExecuteTime": {
     "end_time": "2019-02-13T13:49:02.267307Z",
     "start_time": "2019-02-13T13:49:01.702298Z"
    },
    "_kg_hide-input": true,
    "_uuid": "64459ccdfc81e388f7eb792453c2096fe55b8663"
   },
   "outputs": [],
   "source": [
    "# Video? \n",
    "features =['L_NoVideo']\n",
    "target = ['AdoptionSpeed']\n",
    "for i in features:\n",
    "    graphics(train,\"AdoptionSpeed\",i,ncat=range(0,2))   "
   ]
  },
  {
   "cell_type": "markdown",
   "metadata": {
    "_uuid": "37d40c33fa0eaab9928bfdfc6c70e7cdb728fa72"
   },
   "source": [
    "-  Video and Photo Amount doesn't seem to have a huge impact on Adoption Speed"
   ]
  },
  {
   "cell_type": "markdown",
   "metadata": {
    "_uuid": "e6cb0062c036836e83f9047800a367cda9a267cf"
   },
   "source": [
    "#### Sentiment Data Analysis"
   ]
  },
  {
   "cell_type": "code",
   "execution_count": null,
   "metadata": {
    "ExecuteTime": {
     "end_time": "2019-02-13T13:51:01.538547Z",
     "start_time": "2019-02-13T13:51:01.525535Z"
    },
    "_kg_hide-input": true,
    "_uuid": "8f3feeb6d8099ba75770c79b65c1d6ba055bb1cd"
   },
   "outputs": [],
   "source": [
    "train.groupby('AdoptionSpeed')['sentiment_document_score'].mean()"
   ]
  },
  {
   "cell_type": "code",
   "execution_count": null,
   "metadata": {
    "_uuid": "a765ae25d7e40e7d9c76b98270ddfa8fd1044680"
   },
   "outputs": [],
   "source": [
    "train.groupby('AdoptionSpeed')['sentiment_document_magnitude'].mean()"
   ]
  },
  {
   "cell_type": "code",
   "execution_count": null,
   "metadata": {
    "_uuid": "95ff4787b95d65e3d89f947900c8c0e3cf075500"
   },
   "outputs": [],
   "source": [
    "graphics_num(train,'AdoptionSpeed','sentiment_document_magnitude')"
   ]
  },
  {
   "cell_type": "code",
   "execution_count": null,
   "metadata": {
    "ExecuteTime": {
     "end_time": "2019-02-13T13:54:19.263825Z",
     "start_time": "2019-02-13T13:54:18.963502Z"
    },
    "_kg_hide-input": true,
    "_uuid": "ed7ee4690f70b352c24772310fcb77708011b34b"
   },
   "outputs": [],
   "source": [
    "features =['L_scoreneg']\n",
    "target = ['AdoptionSpeed']\n",
    "for i in features:\n",
    "    graphics(train,\"AdoptionSpeed\",i,ncat=range(0,2))   "
   ]
  },
  {
   "cell_type": "markdown",
   "metadata": {
    "_uuid": "428a656bdbb7d3034061257e27c6d8aa1b46f116"
   },
   "source": [
    "-  We see some more negative score when the Adoption is slower\n",
    "-  Thus we create variable negative Score "
   ]
  },
  {
   "cell_type": "markdown",
   "metadata": {
    "_uuid": "86774353cded7e0552e6b0b73ed6c276267dace9"
   },
   "source": [
    "#### Pet's Name Analysis"
   ]
  },
  {
   "cell_type": "code",
   "execution_count": null,
   "metadata": {
    "ExecuteTime": {
     "end_time": "2019-02-13T14:41:50.405676Z",
     "start_time": "2019-02-13T14:41:49.484714Z"
    },
    "_kg_hide-input": true,
    "_uuid": "ec83b921f082356dfca787918bcfa71bfaee1079"
   },
   "outputs": [],
   "source": [
    "#Impact on missing name or incorrect name\n",
    "\n",
    "features =['L_Name_missing']\n",
    "target = ['AdoptionSpeed']\n",
    "for i in features:\n",
    "    graphics(train,\"AdoptionSpeed\",i,ncat=range(0,2))   "
   ]
  },
  {
   "cell_type": "code",
   "execution_count": null,
   "metadata": {
    "_uuid": "1bc0aac37655a7a8dbfdea0f7395f633382b9e0a"
   },
   "outputs": [],
   "source": [
    "graphics_num(train,'AdoptionSpeed','Name_Length')"
   ]
  },
  {
   "cell_type": "markdown",
   "metadata": {
    "ExecuteTime": {
     "end_time": "2019-02-13T14:42:17.948230Z",
     "start_time": "2019-02-13T14:42:17.940226Z"
    },
    "_uuid": "43d7edb6070f46e0024bacba1394edb54d441b33"
   },
   "source": [
    "-  Missing Name has an impact on Adoption Speed. Let's Analyse the Name !"
   ]
  },
  {
   "cell_type": "code",
   "execution_count": null,
   "metadata": {
    "ExecuteTime": {
     "end_time": "2019-02-13T14:47:46.049687Z",
     "start_time": "2019-02-13T14:47:46.014681Z"
    },
    "_kg_hide-input": true,
    "_uuid": "3e039fb94b79ecf3c7db50a7b5c5f1ce84bf7cf8"
   },
   "outputs": [],
   "source": [
    "train_dog=train.loc[train['Type'] == 1]\n",
    "train_cat=train.loc[train['Type'] == 2]\n",
    "\n",
    "text_cat = ','.join(str(v) for v in train_cat.Name)\n",
    "text_dog = ','.join(str(v) for v in train_dog.Name)\n",
    "print (\"There are {} words in the combination of all Name.\".format(len(text_dog)))"
   ]
  },
  {
   "cell_type": "code",
   "execution_count": null,
   "metadata": {
    "ExecuteTime": {
     "end_time": "2019-02-13T14:47:57.820985Z",
     "start_time": "2019-02-13T14:47:56.140122Z"
    },
    "_kg_hide-input": true,
    "_uuid": "9faa43aaf7e04783692f2e2218133c9ae9c7d6ff"
   },
   "outputs": [],
   "source": [
    "def word_cloud(text):\n",
    "    # Create a word cloud image\n",
    "    wc = WordCloud(background_color=\"white\", max_words=300,\n",
    "                   contour_width=3, contour_color='firebrick')\n",
    "\n",
    "    # Generate a wordcloud\n",
    "    wc.generate(text)\n",
    "\n",
    "    # show\n",
    "    plt.figure(figsize=[15,8])\n",
    "    plt.imshow(wc, interpolation='bilinear')\n",
    "    plt.axis(\"off\")\n",
    "    plt.show()\n",
    "\n",
    "word_cloud(text_dog)"
   ]
  },
  {
   "cell_type": "code",
   "execution_count": null,
   "metadata": {
    "ExecuteTime": {
     "end_time": "2019-02-13T14:48:47.250244Z",
     "start_time": "2019-02-13T14:48:46.631476Z"
    },
    "_uuid": "c628a7b558d654274e6b75668d6b5a5b634dcf1b"
   },
   "outputs": [],
   "source": [
    "word_cloud(text_cat)"
   ]
  },
  {
   "cell_type": "markdown",
   "metadata": {
    "ExecuteTime": {
     "end_time": "2019-02-13T13:58:21.570507Z",
     "start_time": "2019-02-13T13:58:21.565551Z"
    },
    "_uuid": "5577a53dcc7b74fb9da705432fc43aef2f1b245b"
   },
   "source": [
    "## Image Metadata Analysis"
   ]
  },
  {
   "cell_type": "code",
   "execution_count": null,
   "metadata": {
    "ExecuteTime": {
     "end_time": "2019-02-13T14:50:27.943965Z",
     "start_time": "2019-02-13T14:50:27.908439Z"
    },
    "_kg_hide-input": true,
    "_uuid": "147a92a213a5cb9804087279d98410dbd4e7a9a3"
   },
   "outputs": [],
   "source": [
    "text_cat = ','.join(str(v) for v in train_cat.Description)\n",
    "text_dog = ','.join(str(v) for v in train_dog.Description)\n",
    "print (\"There are {} words in the combination of all Description for Cats.\".format(len(text_cat)))"
   ]
  },
  {
   "cell_type": "code",
   "execution_count": null,
   "metadata": {
    "_uuid": "53f78f933cf6a740eeef289c4cc4909a4ef6e331"
   },
   "outputs": [],
   "source": [
    "graphics_num(train,'AdoptionSpeed','Description_Length')"
   ]
  },
  {
   "cell_type": "code",
   "execution_count": null,
   "metadata": {
    "_kg_hide-input": true,
    "_uuid": "090049a3aca7155d4ca9a43d58395a0f166c290e"
   },
   "outputs": [],
   "source": [
    "# Draw a nested analysis per Target\n",
    "features =['metadata_topicality_max','metadata_topicality_mean','metadata_topicality_min','metadata_topicality_0_mean','metadata_topicality_0_max','metadata_topicality_0_min','L_metadata_0_cat_sum','L_metadata_0_dog_sum','L_metadata_any_cat_sum','L_metadata_any_dog_sum']\n",
    "target = ['AdoptionSpeed']\n",
    "for i in features:\n",
    "    graphics_num(train,\"AdoptionSpeed\",i)   "
   ]
  },
  {
   "cell_type": "markdown",
   "metadata": {
    "_uuid": "a15c7e3752b8d74fa0d2cff2337585392f2cc478"
   },
   "source": [
    "### Image Quality Analysis"
   ]
  },
  {
   "cell_type": "code",
   "execution_count": null,
   "metadata": {
    "_kg_hide-input": true,
    "_uuid": "635e9a17a8a5205cf1fc36dee95e7e9c5303f48b"
   },
   "outputs": [],
   "source": [
    "# Draw a nested analysis per Target\n",
    "features =['pixel_mean','blur_mean','pixel_min','blur_min','pixel_max','blur_max','pixel_sum','blur_sum']\n",
    "for i in features:\n",
    "    graphics_num(train,\"AdoptionSpeed\",i)"
   ]
  },
  {
   "cell_type": "markdown",
   "metadata": {
    "_uuid": "4ba620744b044e207f5b3fe96b185caefbf26842"
   },
   "source": [
    "## Correlation Matrix"
   ]
  },
  {
   "cell_type": "code",
   "execution_count": null,
   "metadata": {
    "_kg_hide-input": true,
    "_uuid": "a6f238b5d25cbffa9b315877486836ce78eb04eb"
   },
   "outputs": [],
   "source": [
    "def plot_correlation_matrix(df):\n",
    "    corr = df.corr()\n",
    "\n",
    "    # Generate a mask for the upper triangle\n",
    "    mask = np.zeros_like(corr, dtype=np.bool)\n",
    "    mask[np.triu_indices_from(mask)] = True\n",
    "\n",
    "    # Set up the matplotlib figure\n",
    "    f, ax = plt.subplots(figsize=(30, 15))\n",
    "\n",
    "    # Generate a custom diverging colormap\n",
    "    cmap = sns.diverging_palette(220, 10, as_cmap=True)\n",
    "\n",
    "    # Draw the heatmap with the mask and correct aspect ratio\n",
    "    sns.heatmap(corr, mask=mask, cmap=cmap, vmax=.3, center=0,\n",
    "                square=True, linewidths=.5, cbar_kws={\"shrink\": .5})"
   ]
  },
  {
   "cell_type": "code",
   "execution_count": null,
   "metadata": {
    "_kg_hide-input": true,
    "_uuid": "99346f043044fd8dfcd72bae1a01e4655fb776c9"
   },
   "outputs": [],
   "source": [
    "plot_correlation_matrix(train)"
   ]
  },
  {
   "cell_type": "markdown",
   "metadata": {
    "_uuid": "21e6af34eec6aedfe97bb017d28b1c07af18c5df"
   },
   "source": [
    "### Conclusion on her first analysis\n",
    "The category **0** (pet was adopted on the same day as it was listed) concerns only 3% of the Dataset. The prediction will be hard for this category.  \n",
    "Features that have an impact on *Adoption Speed*:  \n",
    "\n",
    "- Type: cats are adopted faster than dogs\n",
    "- Mixed gender are adopted slower certainly due to the obligation to adopt more than one pet. \n",
    "- An animal with more fur is adopted faster\n",
    "- Older pets are adopted slower\n",
    "- Small pets are adopted faster \n",
    "- Mixed Breed seem to be adopted faster\n",
    "- Free cats seem to have an impact on the Adoption\n",
    "- Most Pets are adopted faster in Selangor and slower in Pulan Pinang and Kuala Lumpur. Selangor is the suburb of Kuala Lumpur.\n",
    "- The bigger rescuer seem to have faster adoption\n",
    "- Higher Sentiment Score -> fast adoption\n",
    "- If the Pet Name is missing the adoption is slower\n",
    "- Topicality and the image description seem to have an impact  \n",
    "\n",
    "Features with no impact or less impact on *Adoption Speed*:  \n",
    "\n",
    "- Vaccinated, Dewormed and Sterilized seem to have no impact on Adoption Speed?   \n",
    "- Colors seem to have no impact  "
   ]
  },
  {
   "cell_type": "markdown",
   "metadata": {
    "_uuid": "082e6b1311deb542adb1c4d74fe710bb99ade521"
   },
   "source": [
    "## Missing Values"
   ]
  },
  {
   "cell_type": "code",
   "execution_count": null,
   "metadata": {
    "_uuid": "f2b84a0bcff8e7c57364d38b6ecdc7c5971047f8"
   },
   "outputs": [],
   "source": [
    "columns = train.columns\n",
    "percent_missing = train.isnull().sum() * 100 / len(train)\n",
    "missing_value_df = pd.DataFrame({'column_name': columns,\n",
    "                                 'percent_missing': percent_missing})\n",
    "\n",
    "missing_value_df =missing_value_df[missing_value_df['percent_missing']>0]\n",
    "missing_value_df\n",
    "\n",
    "\n",
    "plt.figure(figsize=(20, 10))\n",
    "ax = sns.barplot(x=\"column_name\", y=\"percent_missing\", data=missing_value_df, label='Sales')\n",
    "ax.set_xticklabels(ax.get_xticklabels(),rotation=75)\n",
    "for p in ax.patches:\n",
    "    ax.text(p.get_x() + p.get_width()/2., p.get_height(), '%d' % round(p.get_height(),2) + '%', \n",
    "            fontsize=12, color='grey', ha='center', va='bottom') \n",
    "    \n",
    "plt.show()"
   ]
  },
  {
   "cell_type": "markdown",
   "metadata": {
    "_uuid": "96e2202560a96939f0a55e9e719b4d069993d751"
   },
   "source": [
    "We will not keep variables with more than 50% of observations.\n",
    "Name, Description, BreedName2, ColorName3 will not be included. For the others values we will replace the numeric by the median and create a category \"missing\" for categorical variables  "
   ]
  },
  {
   "cell_type": "code",
   "execution_count": null,
   "metadata": {
    "_uuid": "1d92e1f6de939191b8cf30a1bff7f099125df9bb"
   },
   "outputs": [],
   "source": [
    "# Cannot be used for this analysis (IDs, Texts...)\n",
    "train_analysis = train.drop([\"Name\",\"Description\",\"BreedName2\",\"ColorName3\",'Name','Breed1','Breed2','RescuerID','Description',\n",
    "                            'BreedName1','Color1', 'Color2', 'Color3','Age','State','ImageId'],axis=1)\n",
    "\n",
    "for col in ['sentiment_document_score', 'sentiment_document_magnitude','metadata_topicality_max','metadata_topicality_mean','metadata_topicality_min',\n",
    "           'metadata_topicality_0_mean','metadata_topicality_0_max','metadata_topicality_0_min','L_metadata_0_dog_sum',\n",
    "           'L_metadata_0_cat_sum','L_metadata_any_dog_sum','L_metadata_any_cat_sum','pixel_mean','pixel_min','pixel_max','pixel_sum',\n",
    "           'blur_min','blur_max','blur_sum','blur_mean','metadata_color_pixelfrac_mean','metadata_color_pixelfrac_min',\n",
    "           'metadata_color_pixelfrac_max','metadata_color_score_mean','metadata_color_score_min','metadata_color_score_max',\n",
    "           'Description_Length','Name_Length','huMoments0','huMoments1','huMoments2','huMoments3','huMoments4','huMoments5','huMoments6']:\n",
    "    train_analysis[col].fillna((train_analysis[col].median()), inplace=True)\n",
    "    \n",
    "# replacing na values with No Color \n",
    "train_analysis[\"ColorName2\"].fillna(\"No Color\", inplace = True) "
   ]
  },
  {
   "cell_type": "markdown",
   "metadata": {
    "_uuid": "29e7c73c2bdbbc4f3da8154642eaf5da6d680ee0"
   },
   "source": [
    "## Categorical Encoding"
   ]
  },
  {
   "cell_type": "code",
   "execution_count": null,
   "metadata": {
    "_uuid": "37c4975c593e15081c8bd445c5256563d7470c5e"
   },
   "outputs": [],
   "source": [
    "#Label Encoding Breed\n",
    "#One Hot Encoding: ColorName1,ColorName2,StateName\n",
    "train_analysis = pd.concat([train_analysis.drop('StateName', axis=1),pd.get_dummies(train_analysis['StateName'], prefix='State')], axis=1)\n",
    "\n",
    "col=['ColorName1','ColorName2','Health', 'Gender', 'Dewormed','Type','MaturitySize', 'Sterilized','Vaccinated','FurLength']\n",
    "for i in col:\n",
    "    train_analysis = pd.concat([train_analysis.drop(i, axis=1),pd.get_dummies(train_analysis[i], prefix=i)], axis=1)"
   ]
  },
  {
   "cell_type": "markdown",
   "metadata": {
    "_uuid": "17e338a4ee91c038147e32a02126ca88612be0d1"
   },
   "source": [
    "# Modelisation"
   ]
  },
  {
   "cell_type": "markdown",
   "metadata": {
    "_uuid": "078697b20c30ab74bb34cfb6350ea29f30efb3f9"
   },
   "source": [
    "## Evaluation with Quadratic Weighted Kappa"
   ]
  },
  {
   "cell_type": "code",
   "execution_count": null,
   "metadata": {
    "_uuid": "1c74b601ba0f01a5fb0052d04efa5ed3ca1b06cd"
   },
   "outputs": [],
   "source": [
    "# FROM: https://www.kaggle.com/myltykritik/simple-lgbm-image-features\n",
    "\n",
    "# The following 3 functions have been taken from Ben Hamner's github repository\n",
    "# https://github.com/benhamner/Metrics\n",
    "def confusion_matrix(rater_a, rater_b, min_rating=None, max_rating=None):\n",
    "    \"\"\"\n",
    "    Returns the confusion matrix between rater's ratings\n",
    "    \"\"\"\n",
    "    assert(len(rater_a) == len(rater_b))\n",
    "    if min_rating is None:\n",
    "        min_rating = min(rater_a + rater_b)\n",
    "    if max_rating is None:\n",
    "        max_rating = max(rater_a + rater_b)\n",
    "    num_ratings = int(max_rating - min_rating + 1)\n",
    "    conf_mat = [[0 for i in range(num_ratings)]\n",
    "                for j in range(num_ratings)]\n",
    "    for a, b in zip(rater_a, rater_b):\n",
    "        conf_mat[a - min_rating][b - min_rating] += 1\n",
    "    return conf_mat\n",
    "\n",
    "\n",
    "def histogram(ratings, min_rating=None, max_rating=None):\n",
    "    \"\"\"\n",
    "    Returns the counts of each type of rating that a rater made\n",
    "    \"\"\"\n",
    "    if min_rating is None:\n",
    "        min_rating = min(ratings)\n",
    "    if max_rating is None:\n",
    "        max_rating = max(ratings)\n",
    "    num_ratings = int(max_rating - min_rating + 1)\n",
    "    hist_ratings = [0 for x in range(num_ratings)]\n",
    "    for r in ratings:\n",
    "        hist_ratings[r - min_rating] += 1\n",
    "    return hist_ratings\n",
    "\n",
    "\n",
    "def quadratic_weighted_kappa(y, y_pred):\n",
    "    \"\"\"\n",
    "    Calculates the quadratic weighted kappa\n",
    "    axquadratic_weighted_kappa calculates the quadratic weighted kappa\n",
    "    value, which is a measure of inter-rater agreement between two raters\n",
    "    that provide discrete numeric ratings.  Potential values range from -1\n",
    "    (representing complete disagreement) to 1 (representing complete\n",
    "    agreement).  A kappa value of 0 is expected if all agreement is due to\n",
    "    chance.\n",
    "    quadratic_weighted_kappa(rater_a, rater_b), where rater_a and rater_b\n",
    "    each correspond to a list of integer ratings.  These lists must have the\n",
    "    same length.\n",
    "    The ratings should be integers, and it is assumed that they contain\n",
    "    the complete range of possible ratings.\n",
    "    quadratic_weighted_kappa(X, min_rating, max_rating), where min_rating\n",
    "    is the minimum possible rating, and max_rating is the maximum possible\n",
    "    rating\n",
    "    \"\"\"\n",
    "    rater_a = y\n",
    "    rater_b = y_pred\n",
    "    min_rating=None\n",
    "    max_rating=None\n",
    "    rater_a = np.array(rater_a, dtype=int)\n",
    "    rater_b = np.array(rater_b, dtype=int)\n",
    "    assert(len(rater_a) == len(rater_b))\n",
    "    \n",
    "    if min_rating is None:\n",
    "        min_rating = min(min(rater_a), min(rater_b))\n",
    "    if max_rating is None:\n",
    "        max_rating = max(max(rater_a), max(rater_b))\n",
    "    conf_mat = confusion_matrix(rater_a, rater_b,\n",
    "                                min_rating, max_rating)\n",
    "    num_ratings = len(conf_mat)\n",
    "    num_scored_items = float(len(rater_a))\n",
    "\n",
    "    hist_rater_a = histogram(rater_a, min_rating, max_rating)\n",
    "    hist_rater_b = histogram(rater_b, min_rating, max_rating)\n",
    "\n",
    "    numerator = 0.0\n",
    "    denominator = 0.0\n",
    "\n",
    "    for i in range(num_ratings):\n",
    "        for j in range(num_ratings):\n",
    "            expected_count = (hist_rater_a[i] * hist_rater_b[j]\n",
    "                              / num_scored_items)\n",
    "            d = pow(i - j, 2.0) / pow(num_ratings - 1, 2.0)\n",
    "            numerator += d * conf_mat[i][j] / num_scored_items\n",
    "            denominator += d * expected_count / num_scored_items\n",
    "\n",
    "    return (1.0 - numerator / denominator)\n"
   ]
  },
  {
   "cell_type": "markdown",
   "metadata": {
    "_uuid": "52b0fdc9ad9b45dda4f167aca091e14bd394d654"
   },
   "source": [
    "## Optimized Boundaries"
   ]
  },
  {
   "cell_type": "code",
   "execution_count": null,
   "metadata": {
    "_uuid": "810c9e0f16519cecc4face5968f59ea76ab6c4b9"
   },
   "outputs": [],
   "source": [
    "class OptimizedRounder(object):\n",
    "    def __init__(self):\n",
    "        self.coef_ = 0\n",
    "\n",
    "    def _kappa_loss(self, coef, X, y):\n",
    "        X_p = np.copy(X)\n",
    "        for i, pred in enumerate(X_p):\n",
    "            if pred < coef[0]:\n",
    "                X_p[i] = 0\n",
    "            elif pred >= coef[0] and pred < coef[1]:\n",
    "                X_p[i] = 1\n",
    "            elif pred >= coef[1] and pred < coef[2]:\n",
    "                X_p[i] = 2\n",
    "            elif pred >= coef[2] and pred < coef[3]:\n",
    "                X_p[i] = 3\n",
    "            else:\n",
    "                X_p[i] = 4\n",
    "\n",
    "        ll = quadratic_weighted_kappa(y, X_p)\n",
    "        return -ll\n",
    "\n",
    "    def fit(self, X, y):\n",
    "        loss_partial = partial(self._kappa_loss, X=X, y=y)\n",
    "        initial_coef = [0.6, 1.7, 2.6, 3.6]\n",
    "        self.coef_ = sp.optimize.minimize(loss_partial, initial_coef, method='nelder-mead')\n",
    "\n",
    "    def predict(self, X, coef):\n",
    "        X_p = np.copy(X)\n",
    "        for i, pred in enumerate(X_p):\n",
    "            if pred < coef[0]:\n",
    "                X_p[i] = 0\n",
    "            elif pred >= coef[0] and pred < coef[1]:\n",
    "                X_p[i] = 1\n",
    "            elif pred >= coef[1] and pred < coef[2]:\n",
    "                X_p[i] = 2\n",
    "            elif pred >= coef[2] and pred < coef[3]:\n",
    "                X_p[i] = 3\n",
    "            else:\n",
    "                X_p[i] = 4\n",
    "        return X_p\n",
    "\n",
    "    def coefficients(self):\n",
    "        return self.coef_['x']\n",
    "    \n",
    "def rmse(actual, predicted):\n",
    "    return sqrt(mean_squared_error(actual, predicted))"
   ]
  },
  {
   "cell_type": "markdown",
   "metadata": {
    "_uuid": "daf6520949c599771984568c13184f053d1ec22c"
   },
   "source": [
    "## Performance of the model"
   ]
  },
  {
   "cell_type": "code",
   "execution_count": null,
   "metadata": {
    "_uuid": "d0a0a737aaefd0080dd23d4f663cfd6cf26d6f8c"
   },
   "outputs": [],
   "source": [
    "def evaluate(y_pred, y_true):\n",
    "  \n",
    "    cohen_kappa= cohen_kappa_score(y_true, y_pred)\n",
    "    accuracy=accuracy_score(y_true,y_pred)\n",
    "    f1=f1_score(y_true,y_pred,average='micro')\n",
    "    classification=classification_report(y_true,y_pred)\n",
    "    \n",
    "    #Confusion Matrix\n",
    "    cm = confusion_matrix(y_true, y_pred)\n",
    "    plt.figure(figsize=(20,6))\n",
    "    \n",
    "    sns.heatmap(cm, annot=True)\n",
    "    plt.title('Confusion matrix')\n",
    "    plt.figure(figsize = (5,4))\n",
    "    plt.show()\n",
    "    #Evaluation Metrics\n",
    "    print('Cohen Kappa: {:0.2f}.'.format(cohen_kappa))\n",
    "    print('Accuracy Score: {:0.2f}%.'.format(accuracy))\n",
    "    print('F1 Score: {:0.2f}%.'.format(f1))\n",
    "    "
   ]
  },
  {
   "cell_type": "markdown",
   "metadata": {
    "_uuid": "09f1880e6c5446233e4e55d87476393783ce9ba7"
   },
   "source": [
    "## Train, Test & Validation Sets"
   ]
  },
  {
   "cell_type": "markdown",
   "metadata": {
    "_uuid": "732e5f3361c10c2df1d07584a1df2455aabe2b52"
   },
   "source": [
    "[](http://)We are going to use 75% of the data for training and the remaining 25% to test the model. \n",
    "We will tune the hyperparameters using cross validation datasets. "
   ]
  },
  {
   "cell_type": "code",
   "execution_count": null,
   "metadata": {
    "_uuid": "3cbbb72608202c4dcf468a4d43fd8303ecce5983",
    "scrolled": true
   },
   "outputs": [],
   "source": [
    "print(train_analysis.columns)"
   ]
  },
  {
   "cell_type": "code",
   "execution_count": null,
   "metadata": {
    "_uuid": "28dcd89189e7083c70f3ff94f8544ea269f57c5c"
   },
   "outputs": [],
   "source": [
    "#Extracting Features and Output\n",
    "ids=train_analysis[['PetID']]\n",
    "train_analysis=train_analysis.drop(['PetID','State_Labuan'],axis=1)"
   ]
  },
  {
   "cell_type": "code",
   "execution_count": null,
   "metadata": {
    "_uuid": "c09f6d01b871eb311d8885eb5f30e403945c42de"
   },
   "outputs": [],
   "source": [
    "X, y = train_analysis.loc[:, train_analysis.columns != 'AdoptionSpeed'], train_analysis['AdoptionSpeed']\n",
    "\n",
    "X_train, X_test, y_train, y_test = train_test_split(X, y, test_size=0.25, random_state=1, stratify=y)\n",
    "#X_train, X_val, y_train, y_val = train_test_split(X_train, y_train, test_size=0.2, random_state=1)"
   ]
  },
  {
   "cell_type": "code",
   "execution_count": null,
   "metadata": {
    "_uuid": "060ec39ca7355245747e477341cee3c1f8cbf8a7"
   },
   "outputs": [],
   "source": [
    "plt.subplot(1, 2, 1)\n",
    "prob_train  =y_train.value_counts(normalize=True)\n",
    "prob_train.plot(kind='barh',figsize =(15,6))\n",
    "plt.title('Adoption Speed Repartition for the Training Set (75% Data)')\n",
    "plt.subplot(1, 2, 2)\n",
    "\n",
    "prob  =y_test.value_counts(normalize=True)\n",
    "prob.plot(kind='barh', figsize =(15,6))\n",
    "plt.title('Adoption Speed Repartition for the Test Set (25% Data)')\n",
    "plt.show()"
   ]
  },
  {
   "cell_type": "markdown",
   "metadata": {
    "_uuid": "d3213eaf18f28ea32dca497a9b484fd6523b69fb"
   },
   "source": [
    "## Features Selection"
   ]
  },
  {
   "cell_type": "code",
   "execution_count": null,
   "metadata": {
    "_kg_hide-input": true,
    "_uuid": "ab8c448cdc3ea048f5af496ade56e150b30f94a2"
   },
   "outputs": [],
   "source": [
    "model = lgb.LGBMRegressor()\n",
    "model.fit(X_train, y_train)\n",
    "\n",
    "feature_imp = pd.DataFrame(sorted(zip(model.feature_importances_,X_train.columns)), columns=['Value','Feature'])\n",
    "\n",
    "plt.figure(figsize=(10, 17))\n",
    "sns.barplot(x=\"Value\", y=\"Feature\", data=feature_imp.sort_values(by=\"Value\", ascending=False))\n",
    "plt.title('LightGBM Features')\n",
    "plt.tight_layout()\n",
    "plt.show()\n",
    "\n",
    "features_selection = SelectFromModel(model, threshold='1.25*median') # The Threshold is the median of features importance*1.25 \n",
    "features_selection.fit(X_train, y_train)\n",
    "\n",
    "features_selection_support = features_selection.get_support()\n",
    "features_selection = X_train.loc[:,features_selection_support].columns.tolist()\n",
    "features_selection"
   ]
  },
  {
   "cell_type": "code",
   "execution_count": null,
   "metadata": {
    "_uuid": "ff2e1484dc9bb503e91138f38871081c8a2f40ed"
   },
   "outputs": [],
   "source": [
    "X_train =X_train.loc[:,features_selection]\n",
    "X_test = X_test.loc[:,features_selection]"
   ]
  },
  {
   "cell_type": "markdown",
   "metadata": {
    "_uuid": "8f777550ed7089f92bfacb2ad62348bf4a95943c"
   },
   "source": [
    "## Oversampling"
   ]
  },
  {
   "cell_type": "code",
   "execution_count": null,
   "metadata": {
    "_uuid": "06af9667a7ac1684887c0e0303eaab5ecdd82748"
   },
   "outputs": [],
   "source": [
    "print('Original dataset shape %s' % Counter(y_train))\n",
    "\n",
    "sampling_strategy= {4: 3148, 2: 3028, 3: 2444, 1: 2317, 0: 1000}\n",
    "ros = RandomOverSampler(sampling_strategy= sampling_strategy, random_state=42)\n",
    "\n",
    "X_res, y_res = ros.fit_resample(X_train, y_train)\n",
    "print('Resampled dataset shape %s' % Counter(y_res))"
   ]
  },
  {
   "cell_type": "code",
   "execution_count": null,
   "metadata": {
    "_kg_hide-input": true,
    "_uuid": "b3ffcd19fe87dab90f5568f060ca839c30a40a74"
   },
   "outputs": [],
   "source": [
    "from sklearn import preprocessing\n",
    "\n",
    "min_max_scaler = preprocessing.MinMaxScaler()\n",
    "X_scaled = min_max_scaler.fit_transform(X_train)\n",
    "X_res_scaled = min_max_scaler.fit_transform(X_res)\n",
    "\n",
    "# Instanciate a PCA object for the sake of easy visualisation\n",
    "pca = PCA(n_components=2)\n",
    "# Fit and transform x to visualise inside a 2D feature space\n",
    "X_vis = pca.fit_transform(X_scaled)\n",
    "X_res_vis = pca.transform(X_res_scaled)\n",
    "\n",
    "plt.figure()\n",
    "\n",
    "# sp1\n",
    "plt.subplot(121)\n",
    "plt.scatter(X_vis[y_train == 0, 0],  X_vis[y_train == 0, 1],  c=\"navy\", alpha=0.5,label=\"Class 0\")\n",
    "plt.legend(loc='upper left')\n",
    "\n",
    "plt.subplot(122)\n",
    "plt.scatter(X_res_vis[y_res == 0, 0],  X_res_vis[y_res == 0, 1],  c=\"navy\", alpha=0.5,label=\"Class 0\")\n",
    "\n",
    "plt.legend(loc='upper left')\n",
    "plt.show()"
   ]
  },
  {
   "cell_type": "markdown",
   "metadata": {
    "_uuid": "402a560fcdabc6045dc2e5026c93b24402b92313"
   },
   "source": [
    "## Cross Validation"
   ]
  },
  {
   "cell_type": "markdown",
   "metadata": {
    "_uuid": "3fe24c29d85dc587e211a88c4e11bf9fb4ddb0e5"
   },
   "source": [
    "In a first step we divide our data into a training(80% of Data) and a testing set (20% of Data). To tune the hyperparameter and avoid overfitting we used the technique of Cross Validation (CV). For K-Fold CV, we further split our training set into K number of subsets, called folds.We then iteratively fit the model K times, each time training the data on K-1 of the folds and evaluating on the Kth fold. For hyperparameter tuning, we perform many iterations of the entire K-Fold CV process, each time using different model settings. We then compare all of the models, select the best one! At the very end of training, we average the performance on each of the folds to come up with final validation metrics for the model."
   ]
  },
  {
   "cell_type": "markdown",
   "metadata": {
    "_uuid": "5b9ffefc8da2d4debb4a010938a808a7f4c75fe1"
   },
   "source": [
    "<img src=\"https://i.imgur.com/amekoez.jpg\" alt=\"Cat\" title=\"Cat\" width=\"800\" height=\"600\" />"
   ]
  },
  {
   "cell_type": "code",
   "execution_count": null,
   "metadata": {
    "_kg_hide-input": false,
    "_uuid": "fe6a4337638566f3c3552ff7d4ea1d99c7eb399e"
   },
   "outputs": [],
   "source": [
    "def cross_val(model,X_train,y_train):\n",
    "    X = X_train\n",
    "    y = y_train\n",
    "    coeff = np.empty((1,4))\n",
    "    cv_scores=[]\n",
    "    fold=1\n",
    "    skf = StratifiedKFold(n_splits=5, random_state=42, shuffle=True)\n",
    "    print(skf.get_n_splits(X, y))\n",
    "\n",
    "    for train_index, val_index in skf.split(X, y):\n",
    "        xtrain, xvalid = X[train_index], X[val_index]\n",
    "        ytrain, yvalid = y[train_index], y[val_index]\n",
    "\n",
    "        model.fit(\n",
    "            xtrain, ytrain,\n",
    "            eval_set=[(xvalid, yvalid)],\n",
    "            verbose=100,\n",
    "            early_stopping_rounds=100\n",
    "        )\n",
    "\n",
    "        #model.fit(xtrain, ytrain)\n",
    "        valid_preds = model.predict(xvalid, num_iteration=model.best_iteration_)\n",
    "        yvalid = np.array(yvalid).tolist()\n",
    "        optR = OptimizedRounder()\n",
    "        optR.fit(valid_preds, yvalid)\n",
    "\n",
    "        coefficients = optR.coefficients()\n",
    "        valid_p = optR.predict(valid_preds, coefficients)\n",
    "\n",
    "        scr = quadratic_weighted_kappa(yvalid, valid_p)\n",
    "        cv_scores.append(scr)\n",
    "\n",
    "        print(\"QWK = {}. Coef = {}\".format(scr, coefficients))\n",
    "        coefficients.reshape((4, 1))\n",
    "\n",
    "        coeff = np.vstack([coeff, coefficients])\n",
    "        fold += 1\n",
    "\n",
    "\n",
    "    coeff = np.delete(coeff, (0), axis=0)\n",
    "    global coefficient_mean\n",
    "    coefficient_mean = coeff.mean(axis=0)\n",
    "    print(\"Coef Mean ={}\".format(coefficient_mean))"
   ]
  },
  {
   "cell_type": "markdown",
   "metadata": {
    "_uuid": "290b5d0a044df6ec25836edf81c8f436ecaac656"
   },
   "source": [
    "## LightGBM model: optimize the boundaries"
   ]
  },
  {
   "cell_type": "code",
   "execution_count": null,
   "metadata": {
    "_kg_hide-input": true,
    "_uuid": "c4b49cd83366343151399c853cd69d6f5bc2a111",
    "scrolled": true
   },
   "outputs": [],
   "source": [
    "lgb_params = {\n",
    "'boosting_type': 'gbdt',\n",
    "'objective': 'regression',\n",
    "'learning_rate': 0.005,\n",
    "'subsample': .8,\n",
    "'colsample_bytree': 0.8,\n",
    "'min_split_gain': 0.006,\n",
    "'min_child_samples': 150,\n",
    "'min_child_weight': 0.1,\n",
    "'n_estimators': 1000,\n",
    "'num_leaves': 80,\n",
    "'silent': -1,\n",
    "'verbose': -1,\n",
    "'max_depth': 11,\n",
    "'random_state': 2018\n",
    "}\n",
    "    \n",
    "lgb_model = lgb.LGBMRegressor(**lgb_params)\n",
    "\n",
    "cross_val(lgb_model,X_res,y_res)\n",
    "\n",
    "#Prediction\n",
    "y_pred=lgb_model.predict(X_train.values)\n"
   ]
  },
  {
   "cell_type": "code",
   "execution_count": null,
   "metadata": {
    "_uuid": "4be868858c0e7aa9dce9fabfcfb605827a5fbc28"
   },
   "outputs": [],
   "source": [
    "print(coefficient_mean)"
   ]
  },
  {
   "cell_type": "code",
   "execution_count": null,
   "metadata": {
    "_uuid": "cf66724211dbbb963eb569c15ff2544a66e02109"
   },
   "outputs": [],
   "source": [
    "optR=OptimizedRounder()\n",
    "y_true = pd.DataFrame(y_train)\n",
    "y_true.reset_index(inplace=True,drop=False)\n",
    "\n",
    "predictions = optR.predict(y_pred, coefficient_mean).astype(int)\n",
    "pred_lgb = pd.concat([pd.DataFrame(y_pred),y_true,pd.DataFrame(predictions)],axis=1,ignore_index=True)\n",
    "pred_lgb.columns = ['y_pred','index','y_true','y_pred_class']\n",
    "\n",
    "pred_lgb['y_pred_class'].value_counts()"
   ]
  },
  {
   "cell_type": "code",
   "execution_count": null,
   "metadata": {
    "_uuid": "2a45515c610da6b9df017800c9e13c90b3e137ef"
   },
   "outputs": [],
   "source": [
    "evaluate(pred_lgb['y_pred_class'].tolist(), pred_lgb['y_true'].tolist())"
   ]
  },
  {
   "cell_type": "code",
   "execution_count": null,
   "metadata": {
    "_uuid": "cdf6db02fc422b6ea3926bd40a5d7459dff6631e"
   },
   "outputs": [],
   "source": [
    "y_pred=lgb_model.predict(X_test.values)\n",
    "predictions = optR.predict(y_pred, coefficient_mean).astype(int)\n",
    "y_test =pd.DataFrame(y_test)\n",
    "y_test.reset_index(drop=False, inplace=True)\n",
    "\n",
    "\n",
    "pred_lgb = pd.concat([pd.DataFrame(y_pred),y_test,pd.DataFrame(predictions)],axis=1,ignore_index=True)\n",
    "pred_lgb.columns = ['y_pred','index','y_true','y_pred_class']\n",
    "pred_lgb['y_pred_class'].value_counts()"
   ]
  },
  {
   "cell_type": "code",
   "execution_count": null,
   "metadata": {
    "_uuid": "a97fe9fa14962a290afb21dba75a8b8de90fa3a7"
   },
   "outputs": [],
   "source": [
    "evaluate(pred_lgb['y_pred_class'].tolist(), pred_lgb['y_true'].tolist())"
   ]
  },
  {
   "cell_type": "markdown",
   "metadata": {
    "_uuid": "da61e5a24df936568bf7cd55be47b6a73779673c"
   },
   "source": [
    "## LightGBM 2"
   ]
  },
  {
   "cell_type": "code",
   "execution_count": null,
   "metadata": {
    "_uuid": "cd54e6dafdde2f1acceeef411cba8c7b9a36bff2"
   },
   "outputs": [],
   "source": [
    "lgb_params = {\n",
    "'boosting_type': 'gbdt',\n",
    "'objective': 'regression',\n",
    "'learning_rate': 0.005,\n",
    "'subsample': .8,\n",
    "'colsample_bytree': 0.8,\n",
    "'min_split_gain': 0.006,\n",
    "'min_child_samples': 150,\n",
    "'min_child_weight': 0.1,\n",
    "'n_estimators': 1000,\n",
    "'num_leaves': 80,\n",
    "'silent': -1,\n",
    "'verbose': -1,\n",
    "'max_depth': 11,\n",
    "'random_state': 20\n",
    "}\n",
    "    \n",
    "lgb_model2 = lgb.LGBMRegressor(**lgb_params)\n",
    "\n",
    "lgb_model2.fit(X_res, y_res)\n",
    "\n",
    "#Prediction\n",
    "y_pred2=lgb_model2.predict(X_test)"
   ]
  },
  {
   "cell_type": "code",
   "execution_count": null,
   "metadata": {
    "_uuid": "2a8fd36081059d4ff6fe8f33251656ea76adebb8"
   },
   "outputs": [],
   "source": [
    "optR=OptimizedRounder()\n",
    "\n",
    "predictions2 = optR.predict(y_pred2, coefficient_mean).astype(int)\n",
    "\n",
    "pred_lgb2 = pd.concat([pd.DataFrame(y_pred2),y_true,pd.DataFrame(predictions2)],axis=1,ignore_index=True)\n",
    "pred_lgb2.columns = ['y_pred_lgb2','index','y_true','y_pred_class']\n",
    "\n",
    "pred_lgb2['y_pred_class'].value_counts()"
   ]
  },
  {
   "cell_type": "markdown",
   "metadata": {
    "_uuid": "89580683848f5f8e29ab6778cf4e26d06b4befb0"
   },
   "source": [
    "## LightGBM 3"
   ]
  },
  {
   "cell_type": "code",
   "execution_count": null,
   "metadata": {
    "_uuid": "e1e7b7cceb8dc83e4c9718a0bb4f4831ca61dc44"
   },
   "outputs": [],
   "source": [
    "lgb_params = {\n",
    "'boosting_type': 'gbdt',\n",
    "'objective': 'regression',\n",
    "'learning_rate': 0.005,\n",
    "'subsample': .8,\n",
    "'colsample_bytree': 0.8,\n",
    "'min_split_gain': 0.006,\n",
    "'min_child_samples': 150,\n",
    "'min_child_weight': 0.1,\n",
    "'n_estimators': 1000,\n",
    "'num_leaves': 80,\n",
    "'silent': -1,\n",
    "'verbose': -1,\n",
    "'max_depth': 11,\n",
    "'random_state': 2019\n",
    "}\n",
    "   \n",
    "lgb_model3 = lgb.LGBMRegressor(**lgb_params)\n",
    "\n",
    "lgb_model3.fit(X_res, y_res)\n",
    "\n",
    "#Prediction\n",
    "y_pred=lgb_model3.predict(X_test.values)"
   ]
  },
  {
   "cell_type": "code",
   "execution_count": null,
   "metadata": {
    "_uuid": "40d78b2a0061ece4ffee3fb200b19a6d457aacd5"
   },
   "outputs": [],
   "source": [
    "optR=OptimizedRounder()\n",
    "\n",
    "predictions = optR.predict(y_pred, coefficient_mean).astype(int)\n",
    "pred_lgb3 = pd.concat([pd.DataFrame(y_pred),y_true,pd.DataFrame(predictions)],axis=1,ignore_index=True)\n",
    "pred_lgb3.columns = ['y_pred_lgb3','index','y_true','y_pred_class']\n",
    "\n",
    "pred_lgb3['y_pred_class'].value_counts()"
   ]
  }
 ],
 "metadata": {
  "kernelspec": {
   "display_name": "Python 3",
   "language": "python",
   "name": "python3"
  },
  "language_info": {
   "codemirror_mode": {
    "name": "ipython",
    "version": 3
   },
   "file_extension": ".py",
   "mimetype": "text/x-python",
   "name": "python",
   "nbconvert_exporter": "python",
   "pygments_lexer": "ipython3",
   "version": "3.6.8"
  },
  "toc": {
   "base_numbering": 1,
   "nav_menu": {},
   "number_sections": true,
   "sideBar": true,
   "skip_h1_title": false,
   "title_cell": "Table of Contents",
   "title_sidebar": "Contents",
   "toc_cell": false,
   "toc_position": {
    "height": "850px",
    "left": "21px",
    "top": "107px",
    "width": "328px"
   },
   "toc_section_display": true,
   "toc_window_display": true
  },
  "varInspector": {
   "cols": {
    "lenName": 16,
    "lenType": 16,
    "lenVar": 40
   },
   "kernels_config": {
    "python": {
     "delete_cmd_postfix": "",
     "delete_cmd_prefix": "del ",
     "library": "var_list.py",
     "varRefreshCmd": "print(var_dic_list())"
    },
    "r": {
     "delete_cmd_postfix": ") ",
     "delete_cmd_prefix": "rm(",
     "library": "var_list.r",
     "varRefreshCmd": "cat(var_dic_list()) "
    }
   },
   "position": {
    "height": "539px",
    "left": "1956px",
    "right": "80.6667px",
    "top": "171px",
    "width": "502px"
   },
   "types_to_exclude": [
    "module",
    "function",
    "builtin_function_or_method",
    "instance",
    "_Feature"
   ],
   "window_display": true
  }
 },
 "nbformat": 4,
 "nbformat_minor": 1
}
